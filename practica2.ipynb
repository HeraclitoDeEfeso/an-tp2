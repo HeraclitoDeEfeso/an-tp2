{
 "cells": [
  {
   "cell_type": "markdown",
   "id": "df52e042",
   "metadata": {},
   "source": [
    "#### Ejercicio 7\n",
    "\n",
    "Escribir un código para estimar la norma infinito de una matriz, usar la fórmula cerrada. Cómo\n",
    "serı́a un código si no tenemos una fórmula cerrada? Comparar.\n",
    "\n",
    "##### Solución\n",
    "\n",
    "Partiendo de la definición de norma infinito para una matriz a partir de la norma vectorial:\n",
    "\n",
    "$$\n",
    "\\left\\| A \\right\\|_{\\infty} = \\sup \\left\\{ \\left\\| Ax \\right\\|_{\\infty} : \\left\\| x \\right\\|_{\\infty} = 1 \\right\\}\n",
    "$$\n",
    "\n",
    "Y aplicando la fórmula cerrada para una matriz \n",
    "cuadrada de dimensión $n$ como:\n",
    "\n",
    "$$\n",
    "\\left\\| A \\right\\|_{\\infty} = \\max_{1 \\le i \\le n} \\sum_{j=i}^n \\left| a_{ij} \\right|\n",
    "$$\n",
    "\n",
    "Podemos implementarla con la siguiente función `infnorm()`:"
   ]
  },
  {
   "cell_type": "code",
   "execution_count": 1,
   "id": "1fc524b2",
   "metadata": {},
   "outputs": [],
   "source": [
    "def infnorm(matrix):\n",
    "    return max(sum(abs(elem) for elem in row) for row in matrix)"
   ]
  },
  {
   "cell_type": "markdown",
   "id": "87616bd4",
   "metadata": {},
   "source": [
    "La verificamos para la matriz ejemplo de las notas de \n",
    "clase:\n",
    "\n",
    "$$\n",
    "\\left( \\begin{matrix} 1 & 1 \\\\ 3 & 0 \\end{matrix} \\right)\n",
    "$$\n",
    "\n",
    "En nuestro caso:"
   ]
  },
  {
   "cell_type": "code",
   "execution_count": 2,
   "id": "0590485b",
   "metadata": {},
   "outputs": [
    {
     "data": {
      "text/plain": [
       "3"
      ]
     },
     "execution_count": 2,
     "metadata": {},
     "output_type": "execute_result"
    }
   ],
   "source": [
    "infnorm([[1,1],[3,0]])"
   ]
  },
  {
   "cell_type": "markdown",
   "id": "7d6f1e27",
   "metadata": {},
   "source": [
    "En el caso de que no fuera posible obtener\n",
    "la fórmula cerrada de nuestra norma (como sería\n",
    "para el caso de una norma $p$ en general)\n",
    "deberíamos aplicar un procedimiento probabilístico\n",
    "generando la mayor cantidad posible de vectores $x$\n",
    "que posean norma 1. Definimo así una segunda versión\n",
    "de nuestra función:"
   ]
  },
  {
   "cell_type": "code",
   "execution_count": 3,
   "id": "935d8bfb",
   "metadata": {},
   "outputs": [],
   "source": [
    "from random import randint\n",
    "from numpy import matmul\n",
    "def infnorm2(matrix, sample_size):\n",
    "    def infnormvec(vector):\n",
    "        return max(abs(elem) for elem in vector)\n",
    "    def vecnorm(vector):\n",
    "        return [elem / infnormvec(vector) for elem in vector]\n",
    "    vectors = ([randint(-100, 100) for _ in range(len(matrix[0]))] for _ in range(sample_size))\n",
    "    return max(infnormvec(matmul(matrix, vecnorm(vector))) for vector in vectors)"
   ]
  },
  {
   "cell_type": "markdown",
   "id": "8e528cdc",
   "metadata": {},
   "source": [
    "Para determinadas matrices se puede obtener un resultado\n",
    "aceptable con pocas muestras. Reutilizando nuestra matriz\n",
    "de ejemplo:"
   ]
  },
  {
   "cell_type": "code",
   "execution_count": 4,
   "id": "442a2248",
   "metadata": {},
   "outputs": [
    {
     "data": {
      "text/plain": [
       "3.0"
      ]
     },
     "execution_count": 4,
     "metadata": {},
     "output_type": "execute_result"
    }
   ],
   "source": [
    "infnorm2([[1,1],[3,0]], 10)"
   ]
  },
  {
   "cell_type": "markdown",
   "id": "e6a4c74a",
   "metadata": {},
   "source": [
    "Sin embargo, otras matrices nos obligan a una mayor \n",
    "cantidad de muestra para objener un resultado \n",
    "cercano al de la fórmula cerrada. Con ayuda de nuestra\n",
    "función auxiliar `table` que se lista en el Anexo, \n",
    "construiremos una tabla comparativa para los \n",
    "resultados obtenidos con una matriz en el cálculo\n",
    "de su norma infinita con diferentes tamaños de \n",
    "muestra aleatorias de vectores de norma infinita 1:"
   ]
  },
  {
   "cell_type": "code",
   "execution_count": 5,
   "id": "4e0f338e",
   "metadata": {},
   "outputs": [
    {
     "data": {
      "text/markdown": [
       "|Tamaño de muestra|$\\begin{Vmatrix}A\\end{Vmatrix}_{\\infty}$|\n",
       "|:-:|:-:\n",
       "|1|1.9878048780487805|\n",
       "|10|7.46969696969697|\n",
       "|100|7.703703703703704|\n",
       "|1000|7.786516853932584|\n",
       "|10000|7.9714285714285715|\n",
       "|100000|8.0|\n"
      ],
      "text/plain": [
       "<IPython.core.display.Markdown object>"
      ]
     },
     "metadata": {},
     "output_type": "display_data"
    }
   ],
   "source": [
    "from auxiliares import tabla\n",
    "tabla(\n",
    "    [10 ** x for x in range(6)],\n",
    "    [\"Tamaño de muestra\", \"$\\\\begin{Vmatrix}A\\end{Vmatrix}_{\\infty}$\"],\n",
    "    [repr, lambda x: infnorm2([[1,-2,5],[1,2,4]], x)]  \n",
    ")"
   ]
  },
  {
   "cell_type": "markdown",
   "id": "339b3cf8",
   "metadata": {},
   "source": [
    "#### Ejercicio 11\n",
    "\n",
    "Escribir un código para resolver el sistema matricial $Ax = b$ donde $A$ es una matriz que es una\n",
    "permutación de una matríz triangular superior.\n",
    "\n",
    "##### Solución\n",
    "\n",
    "Asumiendo que la matríz $A$ es una permutación de una matriz triangular\n",
    "superior, aplicamos el algoritmo de resolución de una tal matriz para \n",
    "un vector de valores independientes, siguiendo un ordenamiento dado \n",
    "por un vector de permutaciones.\n",
    "En caso que dicho vector de permutaciones no sea proveído, lo calculamos.\n",
    "Dada la similitud de los algoritmos, agregamos un parámetro que indica\n",
    "si la matriz es triangular superior o inferior. Así, la implementación \n",
    "de la función `solvetrian` resulta:"
   ]
  },
  {
   "cell_type": "code",
   "execution_count": 6,
   "id": "6af549cd",
   "metadata": {},
   "outputs": [],
   "source": [
    "from itertools import takewhile\n",
    "from functools import reduce\n",
    "\n",
    "\n",
    "def solvetrian(matrix, values, perm=None, lower=False):\n",
    "    n = len(matrix)\n",
    "    ind = range(n)\n",
    "    if not perm:\n",
    "        keys = [\n",
    "            reduce(\n",
    "                lambda s, i: s + 1,\n",
    "                takewhile(lambda x: x == 0 ^ lower, row),\n",
    "                0,\n",
    "            )\n",
    "            for row in matrix\n",
    "        ]\n",
    "        perm = sorted(ind, key=(lambda x: keys[x]))\n",
    "    return reduce(\n",
    "        lambda r, i: [\n",
    "            (\n",
    "                values[perm[i]]\n",
    "                - matmul(\n",
    "                    matrix[perm[i]][\n",
    "                        slice(i) if lower else slice(i + 1, n)\n",
    "                    ],\n",
    "                    r,\n",
    "                )\n",
    "            )\n",
    "            / matrix[perm[i]][i]\n",
    "        ]\n",
    "        + r,\n",
    "        ind if lower else reversed(ind),\n",
    "        [],\n",
    "    )"
   ]
  },
  {
   "cell_type": "markdown",
   "id": "145450ef",
   "metadata": {},
   "source": [
    "Verifiquemos la función con el siguiente sistema:\n",
    "\n",
    "$$\\left(\\begin{matrix} 1 & 2 & 3 \\\\ 0 & 5 & 4 \\\\ 0 & 0 & 6 \\end{matrix}\\right) \\cdot \\left(\\begin{matrix} x_1 \\\\ x_2 \\\\ x_3 \\end{matrix}\\right) = \\left(\\begin{matrix} 7 \\\\ 8 \\\\ 9 \\end{matrix}\\right)$$\n",
    "\n",
    "En código:"
   ]
  },
  {
   "cell_type": "code",
   "execution_count": 7,
   "id": "e6b23eb2",
   "metadata": {},
   "outputs": [
    {
     "data": {
      "text/plain": [
       "[1.7000000000000002, 0.4, 1.5]"
      ]
     },
     "execution_count": 7,
     "metadata": {},
     "output_type": "execute_result"
    }
   ],
   "source": [
    "A = [[1,2,3],\n",
    "     [0,5,4],\n",
    "     [0,0,6]]\n",
    "b = [7,8,9]\n",
    "solvetrian(A, b)"
   ]
  },
  {
   "cell_type": "markdown",
   "id": "ea1a4663",
   "metadata": {},
   "source": [
    "Si nuestra solución es correcta se debe verificar que $A \\cdot x = b$. \n",
    "Veamoslo en código:"
   ]
  },
  {
   "cell_type": "code",
   "execution_count": 9,
   "id": "a2d2fa10",
   "metadata": {},
   "outputs": [
    {
     "data": {
      "text/plain": [
       "array([7., 8., 9.])"
      ]
     },
     "execution_count": 9,
     "metadata": {},
     "output_type": "execute_result"
    }
   ],
   "source": [
    "matmul(A, solvetrian(A, b))"
   ]
  },
  {
   "cell_type": "markdown",
   "id": "d02ccfde",
   "metadata": {},
   "source": [
    "#### Ejercicio 14\n",
    "\n",
    "Usar el proceso de eliminación de Gauss Escalado para encontrar la descomposición $P \\cdot A = L \\cdot U$ (comparar con Python) y resolver en cada uno de los casos.\n",
    "\n",
    "$$\\left(\\begin{matrix} -1 & 1 & -4 \\\\ 2 & 2 & 0 \\\\ 3 & 3 & 2 \\end{matrix}\\right) \\cdot \\left(\\begin{matrix} x_1 \\\\ x_2 \\\\ x_3 \\end{matrix}\\right) = \\left(\\begin{matrix} 0 \\\\ 1 \\\\ \\frac{1}{2} \\end{matrix}\\right)$$\n",
    "\n",
    "$$\\left(\\begin{matrix} 1 & 6 & 0 \\\\ 2 & 1 & 0 \\\\ 0 & 2 & 1 \\end{matrix}\\right) \\cdot \\left(\\begin{matrix} x_1 \\\\ x_2 \\\\ x_3 \\end{matrix}\\right) = \\left(\\begin{matrix} 3 \\\\ 1 \\\\ 1 \\end{matrix}\\right)$$\n"
   ]
  },
  {
   "cell_type": "code",
   "execution_count": null,
   "id": "ced2ab89",
   "metadata": {},
   "outputs": [],
   "source": []
  }
 ],
 "metadata": {
  "kernelspec": {
   "display_name": "Python 3",
   "language": "python",
   "name": "python3"
  },
  "language_info": {
   "codemirror_mode": {
    "name": "ipython",
    "version": 3
   },
   "file_extension": ".py",
   "mimetype": "text/x-python",
   "name": "python",
   "nbconvert_exporter": "python",
   "pygments_lexer": "ipython3",
   "version": "3.8.5"
  }
 },
 "nbformat": 4,
 "nbformat_minor": 5
}
