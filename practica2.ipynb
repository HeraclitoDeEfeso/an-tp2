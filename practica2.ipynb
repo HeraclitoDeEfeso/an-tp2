{
 "cells": [
  {
   "cell_type": "markdown",
   "id": "df52e042",
   "metadata": {},
   "source": [
    "#### Ejercicio 7\n",
    "\n",
    "Escribir un código para estimar la norma infinito de una matriz, usar la fórmula cerrada. Cómo\n",
    "serı́a un código si no tenemos una fórmula cerrada? Comparar.\n",
    "\n",
    "##### Solución\n",
    "\n",
    "Partiendo de la definición de norma infinito para una matriz a partir de la norma vectorial:\n",
    "\n",
    "$$\n",
    "\\left\\| A \\right\\|_{\\infty} = \\sup \\left\\{ \\left\\| Ax \\right\\|_{\\infty} : \\left\\| x \\right\\|_{\\infty} = 1 \\right\\}\n",
    "$$\n",
    "\n",
    "Y aplicando la fórmula cerrada para una matriz \n",
    "cuadrada de dimensión $n$ como:\n",
    "\n",
    "$$\n",
    "\\left\\| A \\right\\|_{\\infty} = \\max_{1 \\le i \\le n} \\sum_{j=i}^n \\left| a_{ij} \\right|\n",
    "$$\n",
    "\n",
    "Podemos implementarla con la siguiente función `inf_norm_mat()`:"
   ]
  },
  {
   "cell_type": "code",
   "execution_count": 1,
   "id": "1fc524b2",
   "metadata": {},
   "outputs": [],
   "source": [
    "def inf_norm_mat(matrix):\n",
    "    return max(\n",
    "        sum(abs(elem) for elem in row) for row in matrix\n",
    "    )"
   ]
  },
  {
   "cell_type": "markdown",
   "id": "87616bd4",
   "metadata": {},
   "source": [
    "La verificamos para la matriz ejemplo de las notas de \n",
    "clase:\n",
    "\n",
    "$$\n",
    "\\left( \\begin{matrix} 1 & 1 \\\\ 3 & 0 \\end{matrix} \\right)\n",
    "$$\n",
    "\n",
    "En nuestro caso:"
   ]
  },
  {
   "cell_type": "code",
   "execution_count": 2,
   "id": "0590485b",
   "metadata": {},
   "outputs": [
    {
     "data": {
      "text/plain": [
       "3"
      ]
     },
     "execution_count": 2,
     "metadata": {},
     "output_type": "execute_result"
    }
   ],
   "source": [
    "inf_norm_mat([[1,1],[3,0]])"
   ]
  },
  {
   "cell_type": "markdown",
   "id": "7d6f1e27",
   "metadata": {},
   "source": [
    "En el caso de que no fuera posible obtener\n",
    "la fórmula cerrada de nuestra norma (como sería\n",
    "para el caso de una norma $p$ en general)\n",
    "deberíamos aplicar un procedimiento estadístico\n",
    "generando la mayor cantidad posible de vectores $x$\n",
    "que posean norma 1. Definimo así una segunda versión\n",
    "de nuestra función aprovechando que la función \n",
    "`matmul` del paquete `numpy` se comporta como\n",
    "producto escalar si ambos parámetros son vectores\n",
    "de una dimensión:"
   ]
  },
  {
   "cell_type": "code",
   "execution_count": 3,
   "id": "935d8bfb",
   "metadata": {},
   "outputs": [],
   "source": [
    "from random import randint\n",
    "from numpy import matmul\n",
    "\n",
    "\n",
    "def normalize_vec(vector, norm):\n",
    "    return [elem / norm(vector) for elem in vector]\n",
    "\n",
    "\n",
    "def inf_norm_vec(vector):\n",
    "    return max(abs(elem) for elem in vector)\n",
    "\n",
    "\n",
    "def inf_norm_mat2(matrix, sample_size):\n",
    "    return max(\n",
    "        inf_norm_vec(\n",
    "            matmul(\n",
    "                matrix, normalize_vec(vector, inf_norm_vec)\n",
    "            )\n",
    "        )\n",
    "        for vector in (\n",
    "            [\n",
    "                randint(-100, 100)\n",
    "                for _ in range(len(matrix[0]))\n",
    "            ]\n",
    "            for _ in range(sample_size)\n",
    "        )\n",
    "    )"
   ]
  },
  {
   "cell_type": "markdown",
   "id": "8e528cdc",
   "metadata": {},
   "source": [
    "Para determinadas matrices se puede obtener un resultado\n",
    "aceptable con pocas muestras. Reutilizando nuestra matriz\n",
    "de ejemplo:"
   ]
  },
  {
   "cell_type": "code",
   "execution_count": 4,
   "id": "442a2248",
   "metadata": {},
   "outputs": [
    {
     "data": {
      "text/plain": [
       "3.0"
      ]
     },
     "execution_count": 4,
     "metadata": {},
     "output_type": "execute_result"
    }
   ],
   "source": [
    "inf_norm_mat2([[1,1],[3,0]], 10)"
   ]
  },
  {
   "cell_type": "markdown",
   "id": "e6a4c74a",
   "metadata": {},
   "source": [
    "Sin embargo, otras matrices nos obligan a una mayor \n",
    "cantidad de muestra para objener un resultado \n",
    "cercano al de la fórmula cerrada. Con ayuda de nuestra\n",
    "función auxiliar `table` que se lista en el Anexo, \n",
    "construiremos una tabla comparativa para los \n",
    "resultados obtenidos con una matriz en el cálculo\n",
    "de su norma infinita con diferentes tamaños de \n",
    "muestra aleatorias de vectores de norma infinita 1:"
   ]
  },
  {
   "cell_type": "code",
   "execution_count": 5,
   "id": "4e0f338e",
   "metadata": {},
   "outputs": [
    {
     "data": {
      "text/markdown": [
       "|Tamaño de muestra|$\\begin{Vmatrix}A\\end{Vmatrix}_{\\infty}$|\n",
       "|:-:|:-:\n",
       "|1|4.689655172413794|\n",
       "|10|6.383720930232558|\n",
       "|100|7.3508771929824555|\n",
       "|1000|7.9523809523809526|\n",
       "|10000|7.947368421052632|\n",
       "|100000|8.0|\n"
      ],
      "text/plain": [
       "<IPython.core.display.Markdown object>"
      ]
     },
     "metadata": {},
     "output_type": "display_data"
    }
   ],
   "source": [
    "from auxiliares import tabla\n",
    "\n",
    "tabla(\n",
    "    [10 ** x for x in range(6)],\n",
    "    [\n",
    "        \"Tamaño de muestra\",\n",
    "        \"$\\\\begin{Vmatrix}A\\end{Vmatrix}_{\\infty}$\",\n",
    "    ],\n",
    "    [\n",
    "        repr,\n",
    "        lambda x: inf_norm_mat2([[1, -2, 5], [1, 2, 4]], x),\n",
    "    ],\n",
    ")"
   ]
  },
  {
   "cell_type": "markdown",
   "id": "339b3cf8",
   "metadata": {},
   "source": [
    "#### Ejercicio 11\n",
    "\n",
    "Escribir un código para resolver el sistema matricial $Ax = b$ donde $A$ es una matriz que es una\n",
    "permutación de una matríz triangular superior.\n",
    "\n",
    "##### Solución\n",
    "\n",
    "Asumiendo que la matríz $A$ es una permutación de una matriz triangular\n",
    "superior, aplicamos el algoritmo de resolución de una tal matriz para \n",
    "un vector de valores independientes, siguiendo un ordenamiento dado \n",
    "por una matriz de permutaciones $P$. Es decir, que resolvemos la matriz\n",
    "triangular superior $P \\times A$ para el vector de valores independientes\n",
    "$P \\times b$. Así, la implementación de la función `solve_triu` resulta:"
   ]
  },
  {
   "cell_type": "code",
   "execution_count": 6,
   "id": "6af549cd",
   "metadata": {},
   "outputs": [],
   "source": [
    "from itertools import takewhile\n",
    "from functools import reduce\n",
    "\n",
    "\n",
    "def solve_triu(matrix, values, perm):\n",
    "    n = len(matrix)\n",
    "    perm = [row.index(1) for row in perm]\n",
    "    return reduce(\n",
    "        lambda r, i: [\n",
    "            (\n",
    "                values[perm[i]]\n",
    "                - matmul(\n",
    "                    matrix[perm[i]][i + 1 : n],\n",
    "                    r,\n",
    "                )\n",
    "            )\n",
    "            / matrix[perm[i]][i]\n",
    "        ]\n",
    "        + r,\n",
    "        reversed(range(n)),\n",
    "        [],\n",
    "    )"
   ]
  },
  {
   "cell_type": "markdown",
   "id": "145450ef",
   "metadata": {},
   "source": [
    "Verifiquemos la función con el siguiente sistema:\n",
    "\n",
    "$$\\left(\\begin{matrix} 1 & 2 & 3 \\\\ 0 & 5 & 4 \\\\ 0 & 0 & 6 \\end{matrix}\\right) \\times \\left(\\begin{matrix} x_1 \\\\ x_2 \\\\ x_3 \\end{matrix}\\right) = \\left(\\begin{matrix} 7 \\\\ 8 \\\\ 9 \\end{matrix}\\right)$$\n",
    "\n",
    "En código:"
   ]
  },
  {
   "cell_type": "code",
   "execution_count": 7,
   "id": "e6b23eb2",
   "metadata": {},
   "outputs": [
    {
     "name": "stdout",
     "output_type": "stream",
     "text": [
      "[1.7000000000000002, 0.4, 1.5]\n"
     ]
    }
   ],
   "source": [
    "A = [[1,2,3],\n",
    "     [0,5,4],\n",
    "     [0,0,6]]\n",
    "b = [7,8,9]\n",
    "P = [[1,0,0],\n",
    "     [0,1,0],\n",
    "     [0,0,1]]\n",
    "x = solve_triu(A, b, P)\n",
    "print(x)"
   ]
  },
  {
   "cell_type": "markdown",
   "id": "ea1a4663",
   "metadata": {},
   "source": [
    "Si nuestra solución es correcta se debe verificar que $P \\times A \\times x = P \\times b$. \n",
    "En nuestro ejemplo aprovechamos que la matriz $P$ es la identidad, por lo que la \n",
    "verificación de la igualdad en código es:"
   ]
  },
  {
   "cell_type": "code",
   "execution_count": 8,
   "id": "a2d2fa10",
   "metadata": {},
   "outputs": [
    {
     "data": {
      "text/plain": [
       "array([7., 8., 9.])"
      ]
     },
     "execution_count": 8,
     "metadata": {},
     "output_type": "execute_result"
    }
   ],
   "source": [
    "matmul(A, solve_triu(A, b, P))"
   ]
  },
  {
   "cell_type": "markdown",
   "id": "d02ccfde",
   "metadata": {},
   "source": [
    "#### Ejercicio 14\n",
    "\n",
    "Usar el proceso de eliminación de Gauss Escalado para encontrar la descomposición $P \\cdot A = L \\cdot U$ (comparar con Python) y resolver en cada uno de los casos.\n",
    "\n",
    "$$\\left(\\begin{matrix} -1 & 1 & -4 \\\\ 2 & 2 & 0 \\\\ 3 & 3 & 2 \\end{matrix}\\right) \\times \\left(\\begin{matrix} x_1 \\\\ x_2 \\\\ x_3 \\end{matrix}\\right) = \\left(\\begin{matrix} 0 \\\\ 1 \\\\ \\frac{1}{2} \\end{matrix}\\right)$$\n",
    "\n",
    "$$\\left(\\begin{matrix} 1 & 6 & 0 \\\\ 2 & 1 & 0 \\\\ 0 & 2 & 1 \\end{matrix}\\right) \\times \\left(\\begin{matrix} x_1 \\\\ x_2 \\\\ x_3 \\end{matrix}\\right) = \\left(\\begin{matrix} 3 \\\\ 1 \\\\ 1 \\end{matrix}\\right)$$\n",
    "\n",
    "##### Solución\n",
    "\n",
    "Primero definimos nuestra implementación de descomposición $LU$ \n",
    "mediante el método de Gauss Escalado para una matriz cuadrada, de manera que nuestra \n",
    "función `lu` devolverá una matriz de permutaciones $P$ y una matriz \n",
    "que corresponde a la suma matriz triangular superior $U$ permutada \n",
    "más una matriz triangular inferior $L$ menos la matriz identidad, \n",
    "también permutada. Es decir que para mejor aprovechamiento\n",
    "de memoria resolveremos la descomposición _in situ_ y nuestro \n",
    "resultado equivaldrá a $P^{-1} \\times (L - I + U)$. Para reconstruir\n",
    "nuestras matrices no hace falta calcular la inversa de la permutación\n",
    "ya que es ella misma. La implementación de la función es:"
   ]
  },
  {
   "cell_type": "code",
   "execution_count": 9,
   "id": "ced2ab89",
   "metadata": {},
   "outputs": [],
   "source": [
    "def lu(matrix):\n",
    "    n = len(matrix)\n",
    "    permut = list(range(n))\n",
    "    maxim = [max(row, key=abs) for row in matrix]\n",
    "    for i in range(n - 1):\n",
    "        pos, pivot = max(\n",
    "            enumerate(permut[i:]),\n",
    "            key=lambda j: abs(matrix[j[1]][i] / maxim[j[1]]),\n",
    "        )\n",
    "        permut[i + pos] = permut[i]\n",
    "        permut[i] = pivot\n",
    "        for k in permut[i + 1 :]:\n",
    "            matrix[k][i] /= matrix[pivot][i]\n",
    "            for l in range(i + 1, n):\n",
    "                matrix[k][l] -= (\n",
    "                    matrix[k][i] * matrix[pivot][l]\n",
    "                )\n",
    "    return (\n",
    "        [\n",
    "            [1 if i == p else 0 for i in range(n)]\n",
    "            for p in permut\n",
    "        ],\n",
    "        matrix\n",
    "    )"
   ]
  },
  {
   "cell_type": "markdown",
   "id": "36fe7d1b",
   "metadata": {},
   "source": [
    "De manera que si la intención no es resolver un\n",
    "sistema sino presentar las matrices correspondientes,\n",
    "podremos utilizar funciones de copias de matrices\n",
    "del paquete `numpy`. En nuestro caso:"
   ]
  },
  {
   "cell_type": "code",
   "execution_count": 10,
   "id": "9fd40212",
   "metadata": {},
   "outputs": [],
   "source": [
    "from numpy import triu, tril, identity\n",
    "\n",
    "\n",
    "def split_lu(matrix):\n",
    "    P, G1 = lu(matrix)\n",
    "    G2 = matmul(P, G1)\n",
    "    return P, tril(G2, -1) + identity(len(G2)), triu(G2)"
   ]
  },
  {
   "cell_type": "markdown",
   "id": "2e933198",
   "metadata": {},
   "source": [
    "Compararemos nuestros resultados con los de la implementación de\n",
    "la descomposición que realiza el paquete `scipy` de Python:"
   ]
  },
  {
   "cell_type": "code",
   "execution_count": 11,
   "id": "2026e614",
   "metadata": {},
   "outputs": [
    {
     "name": "stdout",
     "output_type": "stream",
     "text": [
      "[[0, 1, 0], [1, 0, 0], [0, 0, 1]]\n",
      "[[ 1.   0.   0. ]\n",
      " [-0.5  1.   0. ]\n",
      " [ 1.5  0.   1. ]]\n",
      "[[ 2.  2.  0.]\n",
      " [ 0.  2. -4.]\n",
      " [ 0.  0.  2.]]\n",
      "\n",
      "[[0. 1. 0.]\n",
      " [0. 0. 1.]\n",
      " [1. 0. 0.]]\n",
      "[[ 1.          0.          0.        ]\n",
      " [-0.33333333  1.          0.        ]\n",
      " [ 0.66666667  0.          1.        ]]\n",
      "[[ 3.          3.          2.        ]\n",
      " [ 0.          2.         -3.33333333]\n",
      " [ 0.          0.         -1.33333333]]\n"
     ]
    }
   ],
   "source": [
    "from scipy.linalg import lu as lu2\n",
    "P1, L1, U1 = split_lu([[-1,1,-4],[2,2,0],[3,3,2]])\n",
    "P2, L2, U2 = lu2([[-1,1,-4],[2,2,0],[3,3,2]])\n",
    "print(P1, L1, U1, sep=\"\\n\", end=\"\\n\\n\")\n",
    "print(P2, L2, U2, sep=\"\\n\")"
   ]
  },
  {
   "cell_type": "markdown",
   "id": "f684c914",
   "metadata": {},
   "source": [
    "Como podemos observar, las descomposiciones\n",
    "son diferentes, lo que es esperable ya que\n",
    "también difieren los pivotes elegidos. Puesto\n",
    "que si existe una descomposición $LU$ entonces\n",
    "existen infinitas, debemos verificar que ambas \n",
    "cumplan con la igualdad $A = P^{-1}LU$, teniendo\n",
    "en cuenta que la inversa de la matriz permutaciones\n",
    "es la propia matriz de permutaciones:"
   ]
  },
  {
   "cell_type": "code",
   "execution_count": 12,
   "id": "19f81714",
   "metadata": {},
   "outputs": [
    {
     "name": "stdout",
     "output_type": "stream",
     "text": [
      "[[-1.  1. -4.]\n",
      " [ 2.  2.  0.]\n",
      " [ 3.  3.  2.]]\n",
      "\n",
      "[[-1.  1. -4.]\n",
      " [ 2.  2.  0.]\n",
      " [ 3.  3.  2.]]\n"
     ]
    }
   ],
   "source": [
    "print(matmul(P1, matmul(L1,U1)), end=\"\\n\\n\")\n",
    "print(matmul(P2, matmul(L2,U2)))"
   ]
  },
  {
   "cell_type": "markdown",
   "id": "384c908d",
   "metadata": {},
   "source": [
    "Para resolver nuestros sistemas sólo nos falta resolver\n",
    "el caso de una matriz triangular inferior. Su algoritmo\n",
    "es muy simular al de la matriz triangular superior con\n",
    "la salvedad de que en este caso asumiremos que la \n",
    "diagonal es la identidad a menos que se indique lo\n",
    "contrario, mecanismo habitual para aprovechar la \n",
    "descomposición _in situ_. Veamos su implementación:"
   ]
  },
  {
   "cell_type": "code",
   "execution_count": 13,
   "id": "affbfa1a",
   "metadata": {},
   "outputs": [],
   "source": [
    "def solve_tril(matrix, values, perm, identity=True):\n",
    "    n = len(matrix)\n",
    "    perm = [row.index(1) for row in perm]\n",
    "    return reduce(\n",
    "        lambda r, i: r + [\n",
    "            (\n",
    "                values[perm[i]]\n",
    "                - matmul(\n",
    "                    matrix[perm[i]][:i],\n",
    "                    r,\n",
    "                )\n",
    "            )\n",
    "            / (1 if identity else matrix[perm[i]][i])\n",
    "        ],\n",
    "        range(n),\n",
    "        [],\n",
    "    )"
   ]
  },
  {
   "cell_type": "markdown",
   "id": "cad4fbe8",
   "metadata": {},
   "source": [
    "Verifiquemos su funcionamiento con un ejemplo\n",
    "en espejo al utilizado al verificar el \n",
    "algoritmo para solucionar la matriz triangular superior:\n",
    "\n",
    "$$\\left(\\begin{matrix} 6 & 0 & 0 \\\\ 4 & 5 & 0 \\\\ 3 & 2 & 1 \\end{matrix}\\right) \\times \\left(\\begin{matrix} x_1 \\\\ x_2 \\\\ x_3 \\end{matrix}\\right) = \\left(\\begin{matrix} 9 \\\\ 8 \\\\ 7 \\end{matrix}\\right)$$\n",
    "\n",
    "En código:"
   ]
  },
  {
   "cell_type": "code",
   "execution_count": 14,
   "id": "b84acbd2",
   "metadata": {},
   "outputs": [
    {
     "data": {
      "text/plain": [
       "[1.5, 0.4, 1.7000000000000002]"
      ]
     },
     "execution_count": 14,
     "metadata": {},
     "output_type": "execute_result"
    }
   ],
   "source": [
    "A = [[6,0,0],\n",
    "     [4,5,0],\n",
    "     [3,2,1]]\n",
    "b = [9,8,7]\n",
    "P = [[1,0,0],\n",
    "     [0,1,0],\n",
    "     [0,0,1]]\n",
    "solve_tril(A, b, P, identity=False)"
   ]
  },
  {
   "cell_type": "markdown",
   "id": "339758a0",
   "metadata": {},
   "source": [
    "Si nuestra solución es correcta se debe verificar que $P \\times A \\times x = P \\times b$. \n",
    "Nuevamente, en nuestro ejemplo aprovechamos que la matriz $P$ es la identidad, por lo que la \n",
    "verificación de la igualdad en código es:"
   ]
  },
  {
   "cell_type": "code",
   "execution_count": 15,
   "id": "58589f79",
   "metadata": {},
   "outputs": [
    {
     "data": {
      "text/plain": [
       "array([9., 8., 7.])"
      ]
     },
     "execution_count": 15,
     "metadata": {},
     "output_type": "execute_result"
    }
   ],
   "source": [
    "matmul(A, solve_tril(A, b, P, identity=False))"
   ]
  },
  {
   "cell_type": "markdown",
   "id": "b9938449",
   "metadata": {},
   "source": [
    "Ahora estamos en condiciones de resolver nuestro\n",
    "primer sistema:\n",
    "\n",
    "$$\\left(\\begin{matrix} -1 & 1 & -4 \\\\ 2 & 2 & 0 \\\\ 3 & 3 & 2 \\end{matrix}\\right) \\times \\left(\\begin{matrix} x_1 \\\\ x_2 \\\\ x_3 \\end{matrix}\\right) = \\left(\\begin{matrix} 0 \\\\ 1 \\\\ \\frac{1}{2} \\end{matrix}\\right)$$\n",
    "\n",
    "En código:"
   ]
  },
  {
   "cell_type": "code",
   "execution_count": 16,
   "id": "eb2ef521",
   "metadata": {},
   "outputs": [
    {
     "name": "stdout",
     "output_type": "stream",
     "text": [
      "[1.25, -0.75, -0.5]\n"
     ]
    }
   ],
   "source": [
    "P, L, U = split_lu([[-1,1,-4],[2,2,0],[3,3,2]])\n",
    "I = [[1,0,0],[0,1,0],[0,0,1]]\n",
    "x = solve_triu(U, solve_tril(L, matmul(P,[0, 1, 1/2]), I), I)\n",
    "print(x)"
   ]
  },
  {
   "cell_type": "markdown",
   "id": "88a5d6b0",
   "metadata": {},
   "source": [
    "Verifiquemos el resultado ya que $A \\times x = b $:"
   ]
  },
  {
   "cell_type": "code",
   "execution_count": 17,
   "id": "e5eb6088",
   "metadata": {},
   "outputs": [
    {
     "data": {
      "text/plain": [
       "array([0. , 1. , 0.5])"
      ]
     },
     "execution_count": 17,
     "metadata": {},
     "output_type": "execute_result"
    }
   ],
   "source": [
    "matmul([[-1,1,-4],[2,2,0],[3,3,2]], x)"
   ]
  },
  {
   "cell_type": "markdown",
   "id": "1cc546fc",
   "metadata": {},
   "source": [
    "En el caso que queramos trabajar con las matrices\n",
    "_in situ_, será necesario permutar el resultado\n",
    "intermedio en vez del vector de valores \n",
    "independientes, de modo que:"
   ]
  },
  {
   "cell_type": "code",
   "execution_count": 18,
   "id": "626f52ed",
   "metadata": {},
   "outputs": [
    {
     "name": "stdout",
     "output_type": "stream",
     "text": [
      "[1.25, -0.75, -0.5]\n"
     ]
    }
   ],
   "source": [
    "P, G = lu([[-1,1,-4],[2,2,0],[3,3,2]])\n",
    "x = solve_triu(G, matmul(P, solve_tril(G, [0, 1, 1/2], P)), P)\n",
    "print(x)"
   ]
  },
  {
   "cell_type": "markdown",
   "id": "8f02760b",
   "metadata": {},
   "source": [
    "Usaremos este método para el siguiente sistema:\n",
    "\n",
    "$$\\left(\\begin{matrix} 1 & 6 & 0 \\\\ 2 & 1 & 0 \\\\ 0 & 2 & 1 \\end{matrix}\\right) \\times \\left(\\begin{matrix} x_1 \\\\ x_2 \\\\ x_3 \\end{matrix}\\right) = \\left(\\begin{matrix} 3 \\\\ 1 \\\\ 1 \\end{matrix}\\right)$$\n",
    "\n",
    "En código:"
   ]
  },
  {
   "cell_type": "code",
   "execution_count": 19,
   "id": "de0e8cd4",
   "metadata": {},
   "outputs": [
    {
     "name": "stdout",
     "output_type": "stream",
     "text": [
      "[-0.46590909090909094, 0.6818181818181819, -0.36363636363636365]\n"
     ]
    }
   ],
   "source": [
    "P, G = lu([[1,6,0],[2,1,0],[0,2,1]])\n",
    "x = solve_triu(G, matmul(P, solve_tril(G, [3, 1, 1], P)), P)\n",
    "print(x)"
   ]
  },
  {
   "cell_type": "markdown",
   "id": "6060761f",
   "metadata": {},
   "source": [
    "Finalmente, verificamos el resultado:"
   ]
  },
  {
   "cell_type": "code",
   "execution_count": 20,
   "id": "2c7fd974",
   "metadata": {},
   "outputs": [
    {
     "data": {
      "text/plain": [
       "array([ 3.625, -0.25 ,  1.   ])"
      ]
     },
     "execution_count": 20,
     "metadata": {},
     "output_type": "execute_result"
    }
   ],
   "source": [
    "matmul([[1,6,0],[2,1,0],[0,2,1]], x)"
   ]
  },
  {
   "cell_type": "code",
   "execution_count": null,
   "id": "44391412",
   "metadata": {},
   "outputs": [],
   "source": []
  }
 ],
 "metadata": {
  "kernelspec": {
   "display_name": "Python 3",
   "language": "python",
   "name": "python3"
  },
  "language_info": {
   "codemirror_mode": {
    "name": "ipython",
    "version": 3
   },
   "file_extension": ".py",
   "mimetype": "text/x-python",
   "name": "python",
   "nbconvert_exporter": "python",
   "pygments_lexer": "ipython3",
   "version": "3.8.5"
  }
 },
 "nbformat": 4,
 "nbformat_minor": 5
}
