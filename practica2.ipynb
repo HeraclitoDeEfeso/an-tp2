{
 "cells": [
  {
   "cell_type": "markdown",
   "metadata": {},
   "source": [
    "#### Ejercicio 7\n",
    "\n",
    "Escribir un código para estimar la norma infinito de una matriz, usar la fórmula cerrada. Cómo\n",
    "sería un código si no tenemos una fórmula cerrada? Comparar.\n",
    "\n",
    "##### Solución\n",
    "\n",
    "Partiendo de la definición de norma infinito para una matriz a partir de la norma vectorial:\n",
    "\n",
    "$$\n",
    "\\left\\| A \\right\\|_{\\infty} = \\sup \\left\\{ \\left\\| Ax \\right\\|_{\\infty} : \\left\\| x \\right\\|_{\\infty} = 1 \\right\\}\n",
    "$$\n",
    "\n",
    "Y aplicando la fórmula cerrada para una matriz \n",
    "cuadrada de dimensión $n$ como:\n",
    "\n",
    "$$\n",
    "\\left\\| A \\right\\|_{\\infty} = \\max_{1 \\le i \\le n} \\sum_{j=i}^n \\left| a_{ij} \\right|\n",
    "$$\n",
    "\n",
    "Podemos implementarla con la siguiente función `inf_norm_mat()`:"
   ]
  },
  {
   "cell_type": "code",
   "execution_count": 1,
   "metadata": {},
   "outputs": [],
   "source": [
    "def inf_norm_mat(matrix):\n",
    "    return max(\n",
    "        sum(abs(elem) for elem in row) for row in matrix\n",
    "    )"
   ]
  },
  {
   "cell_type": "markdown",
   "metadata": {},
   "source": [
    "La verificamos para la matriz ejemplo de las notas de \n",
    "clase:\n",
    "\n",
    "$$\n",
    "\\left( \\begin{matrix} 1 & 1 \\\\ 3 & 0 \\end{matrix} \\right)\n",
    "$$\n",
    "\n",
    "En nuestro caso:"
   ]
  },
  {
   "cell_type": "code",
   "execution_count": 2,
   "metadata": {},
   "outputs": [
    {
     "data": {
      "text/plain": [
       "3"
      ]
     },
     "execution_count": 2,
     "metadata": {},
     "output_type": "execute_result"
    }
   ],
   "source": [
    "m7 = [[1, 1], [3, 0]]\n",
    "inf_norm_mat(m7)"
   ]
  },
  {
   "cell_type": "markdown",
   "metadata": {},
   "source": [
    "En el caso de que no fuera posible obtener\n",
    "la fórmula cerrada de nuestra norma (como sería\n",
    "para el caso de una norma $p$ en general)\n",
    "deberíamos aplicar un procedimiento estadístico\n",
    "generando la mayor cantidad posible de vectores $x$\n",
    "que posean norma 1. Definimo así una segunda versión\n",
    "de nuestra función aprovechando que la función \n",
    "`matmul` del paquete `numpy` se comporta como\n",
    "producto escalar si ambos parámetros son vectores\n",
    "de una dimensión:"
   ]
  },
  {
   "cell_type": "code",
   "execution_count": 3,
   "metadata": {},
   "outputs": [],
   "source": [
    "from random import randint\n",
    "from numpy import matmul\n",
    "\n",
    "\n",
    "def normalize_vec(vector, norm):\n",
    "    return [elem / norm(vector) for elem in vector]\n",
    "\n",
    "\n",
    "def inf_norm_vec(vector):\n",
    "    return max(abs(elem) for elem in vector)\n",
    "\n",
    "\n",
    "def inf_norm_mat2(matrix, sample_size):\n",
    "    return max(\n",
    "        inf_norm_vec(\n",
    "            matmul(\n",
    "                matrix, normalize_vec(vector, inf_norm_vec)\n",
    "            )\n",
    "        )\n",
    "        for vector in (\n",
    "            [\n",
    "                randint(-100, 100)\n",
    "                for _ in range(len(matrix[0]))\n",
    "            ]\n",
    "            for _ in range(sample_size)\n",
    "        )\n",
    "    )"
   ]
  },
  {
   "cell_type": "markdown",
   "metadata": {},
   "source": [
    "Para determinadas matrices se puede obtener un resultado\n",
    "aceptable con pocas muestras. Reutilizando nuestra matriz\n",
    "de ejemplo:"
   ]
  },
  {
   "cell_type": "code",
   "execution_count": 4,
   "metadata": {},
   "outputs": [
    {
     "data": {
      "text/plain": [
       "3.0"
      ]
     },
     "execution_count": 4,
     "metadata": {},
     "output_type": "execute_result"
    }
   ],
   "source": [
    "inf_norm_mat2(m7, 10)"
   ]
  },
  {
   "cell_type": "markdown",
   "metadata": {},
   "source": [
    "Sin embargo, otras matrices nos obligan a una mayor \n",
    "cantidad de muestra para objener un resultado \n",
    "cercano al de la fórmula cerrada. Con ayuda de nuestra\n",
    "función auxiliar `table` que se lista en el Anexo, \n",
    "construiremos una tabla comparativa para los \n",
    "resultados obtenidos con una matriz en el cálculo\n",
    "de su norma infinita con diferentes tamaños de \n",
    "muestra aleatorias de vectores de norma infinita 1:"
   ]
  },
  {
   "cell_type": "code",
   "execution_count": 5,
   "metadata": {},
   "outputs": [
    {
     "data": {
      "text/markdown": [
       "|Tamaño de muestra|$\\begin{Vmatrix}A\\end{Vmatrix}_{\\infty}$|\n",
       "|:-:|:-:\n",
       "|1|7.0|\n",
       "|10|6.460526315789474|\n",
       "|100|7.941860465116279|\n",
       "|1000|7.8196721311475414|\n",
       "|10000|7.930555555555555|\n",
       "|100000|8.0|\n"
      ],
      "text/plain": [
       "<IPython.core.display.Markdown object>"
      ]
     },
     "metadata": {},
     "output_type": "display_data"
    }
   ],
   "source": [
    "from auxiliares import *\n",
    "\n",
    "tabla(\n",
    "    [10 ** x for x in range(6)],\n",
    "    [\n",
    "        \"Tamaño de muestra\",\n",
    "        \"$\\\\begin{Vmatrix}A\\\\end{Vmatrix}_{\\\\infty}$\",\n",
    "    ],\n",
    "    [\n",
    "        repr,\n",
    "        lambda x: inf_norm_mat2([[1, -2, 5], [1, 2, 4]], x),\n",
    "    ],\n",
    ")"
   ]
  },
  {
   "cell_type": "markdown",
   "metadata": {},
   "source": [
    "#### Ejercicio 11\n",
    "\n",
    "Escribir un código para resolver el sistema matricial $Ax = b$ donde $A$ es una matriz que es una\n",
    "permutación de una matríz triangular superior.\n",
    "\n",
    "##### Solución\n",
    "\n",
    "Asumiendo que la matríz $A$ es una permutación de una matriz triangular\n",
    "superior, aplicamos el algoritmo de resolución de una tal matriz para \n",
    "un vector de valores independientes, siguiendo un ordenamiento dado \n",
    "por una matriz de permutaciones $P$. Es decir, que resolvemos la matriz\n",
    "triangular superior $P \\times A$ para el vector de valores independientes\n",
    "$P \\times b$. Así, la implementación de la función `solve_triu` resulta:"
   ]
  },
  {
   "cell_type": "code",
   "execution_count": 6,
   "metadata": {},
   "outputs": [],
   "source": [
    "from itertools import takewhile\n",
    "from functools import reduce\n",
    "\n",
    "\n",
    "def solve_triu(matrix, values, permut):\n",
    "    n = len(matrix)\n",
    "    perm = []\n",
    "    for row in permut:\n",
    "        for i, elem in enumerate(row):\n",
    "            if elem == 1:\n",
    "                perm.append(i) \n",
    "    return reduce(\n",
    "        lambda r, i: [\n",
    "            (\n",
    "                values[perm[i]]\n",
    "                - matmul(\n",
    "                    matrix[perm[i]][i + 1 : n],\n",
    "                    r,\n",
    "                )\n",
    "            )\n",
    "            / matrix[perm[i]][i]\n",
    "        ]\n",
    "        + r,\n",
    "        reversed(range(n)),\n",
    "        [],\n",
    "    )"
   ]
  },
  {
   "cell_type": "markdown",
   "metadata": {},
   "source": [
    "Verifiquemos la función con el siguiente sistema:\n",
    "\n",
    "$$\n",
    "    \\left(\\begin{matrix} 1 & 2 & 3 \\\\ 0 & 5 & 4 \\\\ 0 & 0 & 6 \\end{matrix}\\right) \n",
    "    \\times \n",
    "    \\left(\\begin{matrix} x_1 \\\\ x_2 \\\\ x_3 \\end{matrix}\\right)\n",
    "    = \n",
    "    \\left(\\begin{matrix} 7 \\\\ 8 \\\\ 9 \\end{matrix}\\right)\n",
    "$$\n",
    "\n",
    "En código:"
   ]
  },
  {
   "cell_type": "code",
   "execution_count": 7,
   "metadata": {},
   "outputs": [
    {
     "name": "stdout",
     "output_type": "stream",
     "text": [
      "[1.7000000000000002, 0.4, 1.5]\n"
     ]
    }
   ],
   "source": [
    "A = [[1,2,3],\n",
    "     [0,5,4],\n",
    "     [0,0,6]]\n",
    "b = [7,8,9]\n",
    "P = [[1,0,0],\n",
    "     [0,1,0],\n",
    "     [0,0,1]]\n",
    "x = solve_triu(A, b, P)\n",
    "print(x)"
   ]
  },
  {
   "cell_type": "markdown",
   "metadata": {},
   "source": [
    "Si nuestra solución es correcta se debe verificar que $Ax = b$:"
   ]
  },
  {
   "cell_type": "code",
   "execution_count": 8,
   "metadata": {},
   "outputs": [
    {
     "data": {
      "text/plain": [
       "array([7., 8., 9.])"
      ]
     },
     "execution_count": 8,
     "metadata": {},
     "output_type": "execute_result"
    }
   ],
   "source": [
    "matmul(A, solve_triu(A, b, P))"
   ]
  },
  {
   "cell_type": "markdown",
   "metadata": {},
   "source": [
    "#### Ejercicio 14\n",
    "\n",
    "Usar el proceso de eliminación de Gauss Escalado para encontrar la descomposición $P \\cdot A = L \\cdot U$ (comparar con Python) y resolver en cada uno de los casos.\n",
    "\n",
    "$$\n",
    "    \\left(\\begin{matrix} -1 & 1 & -4 \\\\ 2 & 2 & 0 \\\\ 3 & 3 & 2 \\end{matrix}\\right) \n",
    "    \\times \n",
    "    \\left(\\begin{matrix} x_1 \\\\ x_2 \\\\ x_3 \\end{matrix}\\right)\n",
    "    = \n",
    "    \\left(\\begin{matrix} 0 \\\\ 1 \\\\ 1/2 \\end{matrix}\\right)\n",
    "$$\n",
    "\n",
    "$$\n",
    "    \\left(\\begin{matrix} 1 & 6 & 0 \\\\ 2 & 1 & 0 \\\\ 0 & 2 & 1 \\end{matrix}\\right) \n",
    "    \\times \n",
    "    \\left(\\begin{matrix} x_1 \\\\ x_2 \\\\ x_3 \\end{matrix}\\right)\n",
    "    = \n",
    "    \\left(\\begin{matrix} 3 \\\\ 1 \\\\ 1 \\end{matrix}\\right)\n",
    "$$\n",
    "\n",
    "##### Solución\n",
    "\n",
    "Primero definimos nuestra implementación de descomposición $LU$ \n",
    "mediante el método de Gauss Escalado para una matriz cuadrada, de manera que nuestra \n",
    "función `lu` devolverá una matriz de permutaciones $P$ y una matriz \n",
    "que corresponde a la suma matriz triangular superior $U$ (sin permutar) \n",
    "más una matriz triangular inferior $L$ (sin permutar) a la que se le\n",
    "ha restado la matriz identidad (la diagonal contiene lo elementos de \n",
    "la triangular superior y no los 1 de la identidad, estos se asumiran \n",
    "en los algoritmos de solución). Es decir que para mejor aprovechamiento\n",
    "de memoria resolveremos la descomposición _in situ_:"
   ]
  },
  {
   "cell_type": "code",
   "execution_count": 9,
   "metadata": {},
   "outputs": [],
   "source": [
    "def lu(matrix):\n",
    "    n = len(matrix)\n",
    "    permut = []\n",
    "    rows = set(range(n))\n",
    "    maxim = [max(row, key=abs) for row in matrix]\n",
    "    for i in range(n):\n",
    "        pivot = max(\n",
    "            rows,\n",
    "            key=lambda j: abs(matrix[j][i] / maxim[j]),\n",
    "        )\n",
    "        rows.remove(pivot)\n",
    "        permut.append(pivot)\n",
    "        for k in rows:\n",
    "            matrix[k][i] /= matrix[pivot][i]\n",
    "            for l in range(i + 1, n):\n",
    "                matrix[k][l] -= (\n",
    "                    matrix[k][i] * matrix[pivot][l]\n",
    "                )\n",
    "    return (\n",
    "        [\n",
    "            [1 if i == p else 0 for i in range(n)]\n",
    "            for p in permut\n",
    "        ],\n",
    "        matrix\n",
    "    )"
   ]
  },
  {
   "cell_type": "markdown",
   "metadata": {},
   "source": [
    "De manera que si la intención no es resolver un\n",
    "sistema sino presentar las matrices correspondientes,\n",
    "podremos utilizar funciones de copias de matrices\n",
    "del paquete `numpy`. En nuestro caso:"
   ]
  },
  {
   "cell_type": "code",
   "execution_count": 10,
   "metadata": {},
   "outputs": [],
   "source": [
    "from numpy import triu, tril, identity\n",
    "\n",
    "\n",
    "def split_lu(matrix):\n",
    "    P, G1 = lu(matrix)\n",
    "    G2 = matmul(P, G1)\n",
    "    return P, tril(G2, -1) + identity(len(G2)), triu(G2)"
   ]
  },
  {
   "cell_type": "markdown",
   "metadata": {},
   "source": [
    "También debemos recordar que al procesar las matrices\n",
    "_in situ_ las mismas se verán modificadas en la siguiente\n",
    "invocación, por lo que para reutilizarlas en las verificaciones\n",
    "las copiaremos mediante las funciones del módulo `copy`"
   ]
  },
  {
   "cell_type": "code",
   "execution_count": 11,
   "metadata": {},
   "outputs": [],
   "source": [
    "from copy import deepcopy"
   ]
  },
  {
   "cell_type": "markdown",
   "metadata": {},
   "source": [
    "Definamos los parámetros del ejercicio:"
   ]
  },
  {
   "cell_type": "code",
   "execution_count": 12,
   "metadata": {},
   "outputs": [],
   "source": [
    "m14_1 = [[ -1, 1, -4],[ 2, 2, 0],[ 3, 3, 2]]\n",
    "b14_1 = [ 0, 1, 1/2]"
   ]
  },
  {
   "cell_type": "markdown",
   "metadata": {},
   "source": [
    "Compararemos nuestros resultados con los de la implementación de\n",
    "la descomposición que realiza el paquete `scipy` de Python:"
   ]
  },
  {
   "cell_type": "code",
   "execution_count": 13,
   "metadata": {},
   "outputs": [],
   "source": [
    "from scipy.linalg import lu as lu2\n",
    "P1, L1, U1 = split_lu(deepcopy(m14_1))\n",
    "P2, L2, U2 = lu2(deepcopy(m14_1))"
   ]
  },
  {
   "cell_type": "code",
   "execution_count": 14,
   "metadata": {
    "hide_input": true
   },
   "outputs": [
    {
     "name": "stdout",
     "output_type": "stream",
     "text": [
      "Resultados con nuestro método:\n",
      "\n",
      "\tLa matriz de permutaciones es\n",
      "\n",
      "[[0, 1, 0], [1, 0, 0], [0, 0, 1]]\n",
      "\n",
      "\tLa matriz triangular inferior L es\n",
      "\n",
      "[[ 1.   0.   0. ]\n",
      " [-0.5  1.   0. ]\n",
      " [ 1.5  0.   1. ]]\n",
      "\n",
      "\tLa matriz triangular superior U es\n",
      "\n",
      "[[ 2.  2.  0.]\n",
      " [ 0.  2. -4.]\n",
      " [ 0.  0.  2.]]\n",
      "\n",
      "Resultados con la librería:\n",
      "\n",
      "\tLa matriz de permutaciones es\n",
      "\n",
      "[[0. 1. 0.]\n",
      " [0. 0. 1.]\n",
      " [1. 0. 0.]]\n",
      "\n",
      "\tLa matriz triangular inferior L es\n",
      "\n",
      "[[ 1.          0.          0.        ]\n",
      " [-0.33333333  1.          0.        ]\n",
      " [ 0.66666667  0.          1.        ]]\n",
      "\n",
      "\tLa matriz triangular superior U es\n",
      "\n",
      "[[ 3.          3.          2.        ]\n",
      " [ 0.          2.         -3.33333333]\n",
      " [ 0.          0.         -1.33333333]]\n",
      "\n"
     ]
    }
   ],
   "source": [
    "for t in [(\"nuestro método\", P1, L1, U1), (\"la librería\", P2, L2, U2)]:\n",
    "    print(\"Resultados con \" + t[0] + \":\",\n",
    "        \"\\tLa matriz de permutaciones es\",\n",
    "        t[1], \n",
    "        \"\\tLa matriz triangular inferior L es\",\n",
    "        t[2], \n",
    "        \"\\tLa matriz triangular superior U es\",\n",
    "        t[3], sep=\"\\n\\n\", end=\"\\n\\n\"\n",
    "    )"
   ]
  },
  {
   "cell_type": "markdown",
   "metadata": {},
   "source": [
    "Como podemos observar, las descomposiciones\n",
    "son diferentes, lo que es esperable ya que\n",
    "también difieren los pivotes elegidos. Puesto\n",
    "que si existe una descomposición $LU$ entonces\n",
    "existen infinitas, debemos verificar que ambas \n",
    "cumplan con la igualdad $A = P^{-1}LU$, teniendo\n",
    "en cuenta que la inversa de la matriz permutaciones\n",
    "es la propia matriz de permutaciones:"
   ]
  },
  {
   "cell_type": "code",
   "execution_count": 15,
   "metadata": {},
   "outputs": [
    {
     "name": "stdout",
     "output_type": "stream",
     "text": [
      "Con nuestra descomposición, P * L * U es\n",
      "\n",
      "[[-1.  1. -4.]\n",
      " [ 2.  2.  0.]\n",
      " [ 3.  3.  2.]]\n",
      "\n",
      "Con librería, P * L * U es\n",
      "\n",
      "[[-1.  1. -4.]\n",
      " [ 2.  2.  0.]\n",
      " [ 3.  3.  2.]]\n"
     ]
    }
   ],
   "source": [
    "print(\"Con nuestra descomposición, P * L * U es\\n\")\n",
    "print(matmul(P1, matmul(L1,U1)), end=\"\\n\\n\")\n",
    "print(\"Con librería, P * L * U es\\n\")\n",
    "print(matmul(P2, matmul(L2,U2)))"
   ]
  },
  {
   "cell_type": "markdown",
   "metadata": {},
   "source": [
    "Para resolver nuestros sistemas sólo nos falta resolver\n",
    "el caso de una matriz triangular inferior. Su algoritmo\n",
    "es muy simular al de la matriz triangular superior con\n",
    "la salvedad de que en este caso asumiremos que la \n",
    "diagonal es la identidad a menos que se indique lo\n",
    "contrario, mecanismo habitual para aprovechar la \n",
    "descomposición _in situ_. Veamos su implementación:"
   ]
  },
  {
   "cell_type": "code",
   "execution_count": 16,
   "metadata": {},
   "outputs": [],
   "source": [
    "def solve_tril(matrix, values, permut, identity=True):\n",
    "    n = len(matrix)\n",
    "    perm = []\n",
    "    for row in permut:\n",
    "        for i, elem in enumerate(row):\n",
    "            if elem == 1:\n",
    "                perm.append(i) \n",
    "    return reduce(\n",
    "        lambda r, i: r + [\n",
    "            (\n",
    "                values[perm[i]]\n",
    "                - matmul(\n",
    "                    matrix[perm[i]][:i],\n",
    "                    r,\n",
    "                )\n",
    "            )\n",
    "            / (1 if identity else matrix[perm[i]][i])\n",
    "        ],\n",
    "        range(n),\n",
    "        [],\n",
    "    )"
   ]
  },
  {
   "cell_type": "markdown",
   "metadata": {},
   "source": [
    "Verifiquemos su funcionamiento con un ejemplo\n",
    "en espejo al utilizado al verificar el \n",
    "algoritmo para solucionar la matriz triangular superior:\n",
    "\n",
    "$$\n",
    "    \\left(\\begin{matrix} 6 & 0 & 0 \\\\ 4 & 5 & 0 \\\\ 3 & 2 & 1 \\end{matrix}\\right) \n",
    "    \\times \n",
    "    \\left(\\begin{matrix} x_1 \\\\ x_2 \\\\ x_3 \\end{matrix}\\right)\n",
    "    = \n",
    "    \\left(\\begin{matrix} 9 \\\\ 8 \\\\ 7 \\end{matrix}\\right)\n",
    "$$\n",
    "\n",
    "En código:"
   ]
  },
  {
   "cell_type": "code",
   "execution_count": 17,
   "metadata": {},
   "outputs": [
    {
     "data": {
      "text/plain": [
       "[1.5, 0.4, 1.7000000000000002]"
      ]
     },
     "execution_count": 17,
     "metadata": {},
     "output_type": "execute_result"
    }
   ],
   "source": [
    "A = [[6,0,0],\n",
    "     [4,5,0],\n",
    "     [3,2,1]]\n",
    "b = [9,8,7]\n",
    "P = [[1,0,0],\n",
    "     [0,1,0],\n",
    "     [0,0,1]]\n",
    "solve_tril(A, b, P, identity=False)"
   ]
  },
  {
   "cell_type": "markdown",
   "metadata": {},
   "source": [
    "Si nuestra solución es correcta se debe verificar que $Ax = b$. "
   ]
  },
  {
   "cell_type": "code",
   "execution_count": 18,
   "metadata": {},
   "outputs": [
    {
     "data": {
      "text/plain": [
       "array([9., 8., 7.])"
      ]
     },
     "execution_count": 18,
     "metadata": {},
     "output_type": "execute_result"
    }
   ],
   "source": [
    "matmul(A, solve_tril(A, b, P, identity=False))"
   ]
  },
  {
   "cell_type": "markdown",
   "metadata": {},
   "source": [
    "Ahora estamos en condiciones de resolver nuestro\n",
    "primer sistema:\n",
    "\n",
    "$$\n",
    "    \\left(\\begin{matrix} -1 & 1 & -4 \\\\ 2 & 2 & 0 \\\\ 3 & 3 & 2 \\end{matrix}\\right) \n",
    "    \\times \n",
    "    \\left(\\begin{matrix} x_1 \\\\ x_2 \\\\ x_3 \\end{matrix}\\right)\n",
    "    = \n",
    "    \\left(\\begin{matrix} 0 \\\\ 1 \\\\ 1/2 \\end{matrix}\\right)\n",
    "$$\n",
    "\n",
    "En código:"
   ]
  },
  {
   "cell_type": "code",
   "execution_count": 19,
   "metadata": {},
   "outputs": [
    {
     "name": "stdout",
     "output_type": "stream",
     "text": [
      "[1.25, -0.75, -0.5]\n"
     ]
    }
   ],
   "source": [
    "P, L, U = split_lu(deepcopy(m14_1))\n",
    "I = identity(3)\n",
    "x = solve_triu(U, solve_tril(L, matmul(P,deepcopy(b14_1)), I), I)\n",
    "print(x)"
   ]
  },
  {
   "cell_type": "markdown",
   "metadata": {},
   "source": [
    "Verifiquemos el resultado ya que $Ax = b $:"
   ]
  },
  {
   "cell_type": "code",
   "execution_count": 20,
   "metadata": {},
   "outputs": [
    {
     "data": {
      "text/plain": [
       "array([0. , 1. , 0.5])"
      ]
     },
     "execution_count": 20,
     "metadata": {},
     "output_type": "execute_result"
    }
   ],
   "source": [
    "matmul([[-1,1,-4],[2,2,0],[3,3,2]], x)"
   ]
  },
  {
   "cell_type": "markdown",
   "metadata": {},
   "source": [
    "En el caso que queramos trabajar con las matrices\n",
    "_in situ_, será necesario permutar el resultado\n",
    "intermedio en vez del vector de valores \n",
    "independientes, de modo que:"
   ]
  },
  {
   "cell_type": "code",
   "execution_count": 21,
   "metadata": {},
   "outputs": [
    {
     "name": "stdout",
     "output_type": "stream",
     "text": [
      "[1.25, -0.75, -0.5]\n"
     ]
    }
   ],
   "source": [
    "P, G = lu(deepcopy(m14_1))\n",
    "x = solve_triu(G, matmul(P, solve_tril(G, deepcopy(b14_1), P)), P)\n",
    "print(x)"
   ]
  },
  {
   "cell_type": "markdown",
   "metadata": {},
   "source": [
    "Usaremos este método para el siguiente sistema:\n",
    "\n",
    "$$\n",
    "    \\left(\\begin{matrix} 1 & 6 & 0 \\\\ 2 & 1 & 0 \\\\ 0 & 2 & 1 \\end{matrix}\\right) \n",
    "    \\times \n",
    "    \\left(\\begin{matrix} x_1 \\\\ x_2 \\\\ x_3 \\end{matrix}\\right)\n",
    "    = \n",
    "    \\left(\\begin{matrix} 3 \\\\ 1 \\\\ 1 \\end{matrix}\\right)\n",
    "$$\n",
    "\n",
    "Lo representamos en el lenguaje:"
   ]
  },
  {
   "cell_type": "code",
   "execution_count": 22,
   "metadata": {},
   "outputs": [],
   "source": [
    "m14_2 = [[ 1, 6, 0], [ 2, 1, 0], [ 0, 2, 1]]\n",
    "b14_2 = [ 3, 1, 1]"
   ]
  },
  {
   "cell_type": "markdown",
   "metadata": {},
   "source": [
    "Lo resolvemos con nuestra implementación:"
   ]
  },
  {
   "cell_type": "code",
   "execution_count": 23,
   "metadata": {},
   "outputs": [
    {
     "name": "stdout",
     "output_type": "stream",
     "text": [
      "[-0.46590909090909094, 0.6818181818181819, -0.36363636363636365]\n"
     ]
    }
   ],
   "source": [
    "P, G = lu(deepcopy(m14_2))\n",
    "x = solve_triu(G, matmul(P, solve_tril(G, deepcopy(b14_2), P)), P)\n",
    "print(x)"
   ]
  },
  {
   "cell_type": "markdown",
   "metadata": {},
   "source": [
    "Verificamos el resultado:"
   ]
  },
  {
   "cell_type": "code",
   "execution_count": 24,
   "metadata": {},
   "outputs": [
    {
     "data": {
      "text/plain": [
       "array([ 3.625, -0.25 ,  1.   ])"
      ]
     },
     "execution_count": 24,
     "metadata": {},
     "output_type": "execute_result"
    }
   ],
   "source": [
    "matmul([[1,6,0],[2,1,0],[0,2,1]], x)"
   ]
  },
  {
   "cell_type": "markdown",
   "metadata": {},
   "source": [
    "Como se puede ver, hemos obtenido una solución con\n",
    "un error considerable. Verifiquemos los resultados\n",
    "que arroja la librería del lenguaje:"
   ]
  },
  {
   "cell_type": "code",
   "execution_count": 25,
   "metadata": {},
   "outputs": [
    {
     "name": "stdout",
     "output_type": "stream",
     "text": [
      "[0.2727272727272727, 0.45454545454545453, 0.09090909090909083]\n"
     ]
    }
   ],
   "source": [
    "P, L, U = lu2(deepcopy(m14_2))\n",
    "x = solve_triu(U, solve_tril(L, matmul(P,deepcopy(b14_2)), I), I)\n",
    "print(x)"
   ]
  },
  {
   "cell_type": "markdown",
   "metadata": {},
   "source": [
    "Finalmente, comprobemos cuan cerca de la solución está:"
   ]
  },
  {
   "cell_type": "code",
   "execution_count": 26,
   "metadata": {},
   "outputs": [
    {
     "data": {
      "text/plain": [
       "array([3., 1., 1.])"
      ]
     },
     "execution_count": 26,
     "metadata": {},
     "output_type": "execute_result"
    }
   ],
   "source": [
    "matmul([[1,6,0],[2,1,0],[0,2,1]], x)"
   ]
  },
  {
   "cell_type": "markdown",
   "metadata": {},
   "source": [
    "#### Ejercicio 15\n",
    "\n",
    "Calcular los primeros 100 términos del método de Richardson para el sistema\n",
    "\n",
    "$$\n",
    "    \\left(\\begin{matrix} 1 & 1/2 & 1/3 \\\\ 1/3 & 1 & 1/2 \\\\ 1/2 & 1/3 & 1 \\end{matrix}\\right) \n",
    "    \\times \n",
    "    \\left(\\begin{matrix} x_1 \\\\ x_2 \\\\ x_3 \\end{matrix}\\right)\n",
    "    = \n",
    "    \\left(\\begin{matrix} 11/18 \\\\ 11/18 \\\\ 11/18 \\end{matrix}\\right)\n",
    "$$\n",
    "\n",
    "##### Solución\n",
    "\n",
    "Sabemos que el método de Richardson pertenece\n",
    "a la familia de métodos iterativos tal que:\n",
    "\n",
    "$$ Q \\times x_{k} = (Q - A) \\times x_{k-1} + b $$\n",
    "\n",
    "En el caso del método de Richardson, $Q = I$, por lo\n",
    "que nuestra fórmula iterativa resulta:\n",
    "\n",
    "$$ x_{k} = (I - A) \\times x_{k-1} + b $$\n",
    "\n",
    "Si tomamos arbitrariamente que $x_0 = 0$ entonces $x_1 = b$, que es desde dónde comenzaremos la iteración en\n",
    "caso de que no se provea una solución inicial. Nuestra implementación resulta:"
   ]
  },
  {
   "cell_type": "code",
   "execution_count": 27,
   "metadata": {},
   "outputs": [],
   "source": [
    "def richardson(matrix, values, terms, guess=None):\n",
    "    results = []\n",
    "    if not guess:\n",
    "        guess = values\n",
    "    matrix = identity(len(matrix)) - matrix \n",
    "    for _ in range(terms):\n",
    "        results.append(guess)\n",
    "        guess = matmul(matrix, guess) + values \n",
    "    return results"
   ]
  },
  {
   "cell_type": "markdown",
   "metadata": {},
   "source": [
    "Expresemos los parámetros del ejercicio en el lenguaje:"
   ]
  },
  {
   "cell_type": "code",
   "execution_count": 28,
   "metadata": {},
   "outputs": [],
   "source": [
    "m15 = [[ 1, 1/2, 1/3], [ 1/3, 1, 1/2], [ 1/2, 1/3, 1]]\n",
    "b15 = [ 11/18, 11/18, 11/18]\n",
    "terms = 100"
   ]
  },
  {
   "cell_type": "markdown",
   "metadata": {},
   "source": [
    "Resolvemos ahora el ejercicio con el siguiente código:"
   ]
  },
  {
   "cell_type": "code",
   "execution_count": 29,
   "metadata": {},
   "outputs": [],
   "source": [
    "r = richardson(deepcopy(m15), deepcopy(b15), terms)"
   ]
  },
  {
   "cell_type": "markdown",
   "metadata": {},
   "source": [
    "Presentamos todos los terminos en la siguiente tabla,\n",
    "acomodados por filas y luego por columnas:"
   ]
  },
  {
   "cell_type": "code",
   "execution_count": 43,
   "metadata": {
    "hide_input": true
   },
   "outputs": [
    {
     "data": {
      "text/markdown": [
       "||Richardson xn||\n",
       "|:-:|:-:|:-:\n",
       "|[0.611, 0.611, 0.611]|[0.102, 0.102, 0.102]|[0.526, 0.526, 0.526]|\n",
       "|[0.102, 0.102, 0.102]|[0.526, 0.526, 0.526]|[0.173, 0.173, 0.173]|\n",
       "|[0.526, 0.526, 0.526]|[0.173, 0.173, 0.173]|[0.467, 0.467, 0.467]|\n",
       "|[0.173, 0.173, 0.173]|[0.467, 0.467, 0.467]|[0.222, 0.222, 0.222]|\n",
       "|[0.467, 0.467, 0.467]|[0.222, 0.222, 0.222]|[0.426, 0.426, 0.426]|\n",
       "|[0.222, 0.222, 0.222]|[0.426, 0.426, 0.426]|[0.256, 0.256, 0.256]|\n",
       "|[0.426, 0.426, 0.426]|[0.256, 0.256, 0.256]|[0.398, 0.398, 0.398]|\n",
       "|[0.256, 0.256, 0.256]|[0.398, 0.398, 0.398]|[0.279, 0.279, 0.279]|\n",
       "|[0.398, 0.398, 0.398]|[0.279, 0.279, 0.279]|[0.378, 0.378, 0.378]|\n",
       "|[0.279, 0.279, 0.279]|[0.378, 0.378, 0.378]|[0.296, 0.296, 0.296]|\n",
       "|[0.378, 0.378, 0.378]|[0.296, 0.296, 0.296]|[0.364, 0.364, 0.364]|\n",
       "|[0.296, 0.296, 0.296]|[0.364, 0.364, 0.364]|[0.307, 0.307, 0.307]|\n",
       "|[0.364, 0.364, 0.364]|[0.307, 0.307, 0.307]|[0.355, 0.355, 0.355]|\n",
       "|[0.307, 0.307, 0.307]|[0.355, 0.355, 0.355]|[0.315, 0.315, 0.315]|\n",
       "|[0.355, 0.355, 0.355]|[0.315, 0.315, 0.315]|[0.348, 0.348, 0.348]|\n",
       "|[0.315, 0.315, 0.315]|[0.348, 0.348, 0.348]|[0.321, 0.321, 0.321]|\n",
       "|[0.348, 0.348, 0.348]|[0.321, 0.321, 0.321]|[0.344, 0.344, 0.344]|\n",
       "|[0.321, 0.321, 0.321]|[0.344, 0.344, 0.344]|[0.325, 0.325, 0.325]|\n",
       "|[0.344, 0.344, 0.344]|[0.325, 0.325, 0.325]|[0.341, 0.341, 0.341]|\n",
       "|[0.325, 0.325, 0.325]|[0.341, 0.341, 0.341]|[0.327, 0.327, 0.327]|\n",
       "|[0.341, 0.341, 0.341]|[0.327, 0.327, 0.327]|[0.338, 0.338, 0.338]|\n",
       "|[0.327, 0.327, 0.327]|[0.338, 0.338, 0.338]|[0.329, 0.329, 0.329]|\n",
       "|[0.338, 0.338, 0.338]|[0.329, 0.329, 0.329]|[0.337, 0.337, 0.337]|\n",
       "|[0.329, 0.329, 0.329]|[0.337, 0.337, 0.337]|[0.330, 0.330, 0.330]|\n",
       "|[0.337, 0.337, 0.337]|[0.330, 0.330, 0.330]|[0.336, 0.336, 0.336]|\n",
       "|[0.330, 0.330, 0.330]|[0.336, 0.336, 0.336]|[0.331, 0.331, 0.331]|\n",
       "|[0.336, 0.336, 0.336]|[0.331, 0.331, 0.331]|[0.335, 0.335, 0.335]|\n",
       "|[0.331, 0.331, 0.331]|[0.335, 0.335, 0.335]|[0.332, 0.332, 0.332]|\n",
       "|[0.335, 0.335, 0.335]|[0.332, 0.332, 0.332]|[0.335, 0.335, 0.335]|\n",
       "|[0.332, 0.332, 0.332]|[0.335, 0.335, 0.335]|[0.332, 0.332, 0.332]|\n",
       "|[0.335, 0.335, 0.335]|[0.332, 0.332, 0.332]|[0.334, 0.334, 0.334]|\n",
       "|[0.332, 0.332, 0.332]|[0.334, 0.334, 0.334]|[0.333, 0.333, 0.333]|\n",
       "|[0.334, 0.334, 0.334]|[0.333, 0.333, 0.333]|[0.334, 0.334, 0.334]|\n"
      ],
      "text/plain": [
       "<IPython.core.display.Markdown object>"
      ]
     },
     "metadata": {},
     "output_type": "display_data"
    }
   ],
   "source": [
    "tabla(\n",
    "    [map(format_vec, r[i:i + 3]) for i in range(len(r) // 3)],\n",
    "    [\"\", \"Richardson xn\",\"\"]\n",
    ")"
   ]
  },
  {
   "cell_type": "markdown",
   "metadata": {},
   "source": [
    "Comprobemos la exactitud del último término:"
   ]
  },
  {
   "cell_type": "code",
   "execution_count": 31,
   "metadata": {},
   "outputs": [
    {
     "data": {
      "text/plain": [
       "array([0.6111111, 0.6111111, 0.6111111])"
      ]
     },
     "execution_count": 31,
     "metadata": {},
     "output_type": "execute_result"
    }
   ],
   "source": [
    "matmul(m15, r[-1])"
   ]
  },
  {
   "cell_type": "markdown",
   "metadata": {},
   "source": [
    "#### Ejercicio 16\n",
    "\n",
    "Escribir un algoritmo para calcular los primeros M pasos del método de Jacobi, y Gauss-Seidel.\n",
    "\n",
    "##### Solución\n",
    "\n",
    "Para el caso del método de Jacobi, sabemos que\n",
    "pertenece a la misma familia que la del método\n",
    "de Richardson, sólo que en este caso la matriz\n",
    "$Q$ es la matriz diagonal de $A$ por lo que su \n",
    "inversa es fácilmente calculable:\n",
    "\n",
    "$$ Q^{-1}_{ij} = \\left\\{ \\begin{matrix} \n",
    "        \\frac{1}{A_{ij}} \\quad \\text{si} \\quad i = j \\\\\n",
    "        0 \\quad \\text{si} \\quad i \\ne j\n",
    "                    \\end{matrix}\n",
    "            \\right.\n",
    "$$\n",
    "\n",
    "Por lo que nuestra fórmula iterativa resulta:\n",
    "\n",
    "$$ x_{k} = (I - Q^{-1}A) \\times x_{k-1} + Q^{-1} \\times b $$\n",
    "\n",
    "Con $G = (I - Q^{-1}A)$ definida como:\n",
    "\n",
    "$$\n",
    "G_{ij} = \\left\\{\\begin{matrix}\n",
    "            0 \\quad \\text{si} \\quad i = j \\\\\n",
    "            - a_{ij} / a_{ii} \\quad \\text{si} \\quad i \\ne j\n",
    "        \\end{matrix}\\right.\n",
    "$$\n",
    "\n",
    "Nuestra implementación resulta entonces:"
   ]
  },
  {
   "cell_type": "code",
   "execution_count": 32,
   "metadata": {},
   "outputs": [],
   "source": [
    "def jacobi(matrix, values, terms, guess=None):\n",
    "    results = []\n",
    "    if not guess:\n",
    "        guess = values\n",
    "    for i, row in enumerate(matrix):\n",
    "        diag = row[i]\n",
    "        values[i] /= diag\n",
    "        for j, elem in enumerate(row):\n",
    "            matrix[i][j] = 0 if i == j else - elem / diag\n",
    "    for _ in range(terms):\n",
    "        results.append(guess)\n",
    "        guess = matmul(matrix, guess) + values \n",
    "    return results"
   ]
  },
  {
   "cell_type": "markdown",
   "metadata": {},
   "source": [
    "En el caso del método de Gauss-Seidel, la matriz\n",
    "$Q$ resulta ser la tringular inferior de $A$, pero\n",
    "como en este caso el cálculo de su inversa podría\n",
    "resultar costoso, utilizaremos la fórmula iterativa:\n",
    "\n",
    "$$ Q \\times x_{k} = (Q - A) \\times x_{k-1} + b $$\n",
    "\n",
    "Donde $Q - A$ resulta ser la opuesta aditiva de\n",
    "la triangular superior de $A$ menos los elementos \n",
    "de la diagonal, de manera que\n",
    "nos queda por resolver un sistema triangular \n",
    "inferior. Su implementación:"
   ]
  },
  {
   "cell_type": "code",
   "execution_count": 33,
   "metadata": {},
   "outputs": [],
   "source": [
    "def gauss_siedel(matrix, values, terms, guess=None):\n",
    "    results = []\n",
    "    if not guess:\n",
    "        guess = values\n",
    "    trian = tril(matrix)\n",
    "    matrix = -triu(matrix, 1) \n",
    "    for _ in range(terms):\n",
    "        guess = solve_tril(\n",
    "            trian, \n",
    "            matmul(matrix, guess) + values,\n",
    "            identity(len(trian)),\n",
    "            identity=False\n",
    "        )\n",
    "        results.append(guess)\n",
    "    return results"
   ]
  },
  {
   "cell_type": "markdown",
   "metadata": {},
   "source": [
    "#### Ejercicio 17\n",
    "\n",
    "Para el siguiente sistema mostrar que tanto Gauss-Seidel como Jacobi convergen para cualquier valor\n",
    "inicial. Usar el ítem anterior para estimar la solución.\n",
    "\n",
    "$$\n",
    "    \\left(\\begin{matrix} 2 & -1 & 0 \\\\ 1 & 6 & -2 \\\\ 4 & -3 & 8 \\end{matrix}\\right) \n",
    "    \\times \n",
    "    \\left(\\begin{matrix} x_1 \\\\ x_2 \\\\ x_3 \\end{matrix}\\right)\n",
    "    = \n",
    "    \\left(\\begin{matrix} 2 \\\\ -4 \\\\ 5 \\end{matrix}\\right)\n",
    "$$\n",
    "\n",
    "##### Solución\n",
    "\n",
    "Mostramos a continuación como la solución para \n",
    "la matriz del ejercicio converge tanto en el\n",
    "caso del método de Gauss-Seidel como el de \n",
    "Jacobi por ser ésta diagonal dominante.\n",
    "\n",
    "Recordamos que para ser diagonal dominante basta\n",
    "que la matriz lo sea por filas o bien por columnas,\n",
    "y que la difinición establece que el valor\n",
    "absoluto de del elemento diagonal es mayor a la\n",
    "sumatoria del valor absoluto del resto de los\n",
    "elementos (por filas o bien por columnas):\n",
    "\n",
    "$$ \\left| a_{ii} \\right| > \\sum_{j=1, j \\ne i}^n \\left| a_{ij}\\right| $$\n",
    "\n",
    "ó\n",
    "\n",
    "$$ \\left| a_{ii} \\right| > \\sum_{j=1, j \\ne i}^n \\left| a_{ji}\\right| $$\n",
    "\n",
    "En nuestro caso, por columnas:\n",
    "\n",
    "$$ \\left| a_{11} \\right| = 2 > \\left| a_{12} \\right| + \\left| a_{12} \\right| = 1 $$\n",
    "\n",
    "$$ \\left| a_{22} \\right| = 6 > \\left| a_{21} \\right| + \\left| a_{23} \\right| = 3 $$\n",
    "\n",
    "$$ \\left| a_{33} \\right| = 8 > \\left| a_{31} \\right| + \\left| a_{32} \\right| = 7 $$\n",
    "\n",
    "Finalmente estimamos la solución para los\n",
    "primero 11 términos de cada método, con las\n",
    "funciones implementadas en el ejercicio anterior:"
   ]
  },
  {
   "cell_type": "code",
   "execution_count": 34,
   "metadata": {},
   "outputs": [],
   "source": [
    "m17 = [[2,-1,0],[1,6,-2],[4,-3,8]]\n",
    "b17 = [2,-4,5]\n",
    "terms = 11\n",
    "j = jacobi(deepcopy(m17), deepcopy(b17), terms)\n",
    "g = gauss_siedel(deepcopy(m17), deepcopy(b17), terms)"
   ]
  },
  {
   "cell_type": "markdown",
   "metadata": {},
   "source": [
    "Para analizar la convergencia en ambos métodos\n",
    "definimos el error relativo de solución con respecto\n",
    "a los valores indepencientes de la siguiente forma:\n",
    "\n",
    "$$\\frac{\\left\\|b - Ax_n\\right\\|_{\\infty}}{\\left\\|b\\right\\|_{\\infty}}$$"
   ]
  },
  {
   "cell_type": "code",
   "execution_count": 35,
   "metadata": {},
   "outputs": [],
   "source": [
    "def rel_err_vec(observ, expect):\n",
    "    return (\n",
    "        inf_norm_vec(\n",
    "            exp - obs for exp, obs in zip(observ, expect)\n",
    "        ) \n",
    "        / inf_norm_vec(expect) \n",
    "    )"
   ]
  },
  {
   "cell_type": "markdown",
   "metadata": {},
   "source": [
    "Presentamos los términos y los errores relativos en la siguiente tabla:"
   ]
  },
  {
   "cell_type": "code",
   "execution_count": 36,
   "metadata": {
    "hide_input": true
   },
   "outputs": [
    {
     "data": {
      "text/markdown": [
       "|n|Jacobi $x_n$|Jacobi $\\epsilon$|Gauss-Siedel $x_n$|Gauss-Siedel $\\epsilon$|\n",
       "|:-:|:-:|:-:|:-:|:-:\n",
       "|0|[1.000, -0.667, 0.625]|1.200E+00|[1.000, -0.667, 0.625]|1.375E+00|\n",
       "|1|[0.667, -0.625, -0.125]|2.917E-01|[0.667, -0.625, -0.125]|7.531E-01|\n",
       "|2|[0.688, -0.819, 0.057]|1.333E-01|[0.688, -0.819, 0.057]|9.925E-02|\n",
       "|3|[0.590, -0.762, -0.026]|1.122E-01|[0.590, -0.762, -0.026]|6.623E-02|\n",
       "|4|[0.619, -0.774, 0.044]|2.986E-02|[0.619, -0.774, 0.044]|9.193E-03|\n",
       "|5|[0.613, -0.755, 0.025]|1.578E-02|[0.613, -0.755, 0.025]|5.693E-03|\n",
       "|6|[0.622, -0.760, 0.035]|1.059E-02|[0.622, -0.760, 0.035]|8.270E-04|\n",
       "|7|[0.620, -0.759, 0.029]|3.146E-03|[0.620, -0.759, 0.029]|4.790E-04|\n",
       "|8|[0.621, -0.760, 0.031]|1.757E-03|[0.621, -0.760, 0.031]|7.256E-05|\n",
       "|9|[0.620, -0.760, 0.030]|1.014E-03|[0.620, -0.760, 0.030]|3.947E-05|\n",
       "|10|[0.620, -0.760, 0.030]|3.354E-04|[0.620, -0.760, 0.030]|6.224E-06|\n"
      ],
      "text/plain": [
       "<IPython.core.display.Markdown object>"
      ]
     },
     "metadata": {},
     "output_type": "display_data"
    }
   ],
   "source": [
    "tabla(\n",
    "    zip(\n",
    "        range(11),\n",
    "        map(format_vec, j),\n",
    "        map(format_err, [rel_err_vec(matmul(m17, sol), b17) for sol in j]),\n",
    "        map(format_vec, j),\n",
    "        map(format_err, [rel_err_vec(matmul(m17, sol), b17) for sol in g])\n",
    "    ),\n",
    "    [\n",
    "        \"n\",\n",
    "        \"Jacobi $x_n$\",\n",
    "        \"Jacobi $\\\\epsilon$\",\n",
    "        \"Gauss-Siedel $x_n$\",\n",
    "        \"Gauss-Siedel $\\\\epsilon$\"\n",
    "    ]\n",
    ")"
   ]
  },
  {
   "cell_type": "markdown",
   "metadata": {},
   "source": [
    "Como se puede observar, el método de Gauss-Siedel, si bien más complejo\n",
    "computacionalmente, converge más rápidamente que el método de Jacobi.\n",
    "De todas formas, para el término onceavo, ambos métodos tienen mínimamente \n",
    "una precisión de tres cifras decimales."
   ]
  }
 ],
 "metadata": {
  "kernelspec": {
   "display_name": "Python 3",
   "language": "python",
   "name": "python3"
  },
  "language_info": {
   "codemirror_mode": {
    "name": "ipython",
    "version": 3
   },
   "file_extension": ".py",
   "mimetype": "text/x-python",
   "name": "python",
   "nbconvert_exporter": "python",
   "pygments_lexer": "ipython3",
   "version": "3.7.4"
  }
 },
 "nbformat": 4,
 "nbformat_minor": 5
}
