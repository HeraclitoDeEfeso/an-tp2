{
 "cells": [
  {
   "cell_type": "markdown",
   "id": "df52e042",
   "metadata": {},
   "source": [
    "#### Ejercicio 7\n",
    "\n",
    "Escribir un código para estimar la norma infinito de una matriz, usar la fórmula cerrada. Cómo\n",
    "serı́a un código si no tenemos una fórmula cerrada? Comparar.\n",
    "\n",
    "##### Solución\n",
    "\n",
    "Partiendo de la definición de norma infinito para una matriz a partir de la norma vectorial:\n",
    "\n",
    "$$\n",
    "\\left\\| A \\right\\|_{\\infty} = \\sup \\left\\{ \\left\\| Ax \\right\\|_{\\infty} : \\left\\| x \\right\\|_{\\infty} = 1 \\right\\}\n",
    "$$\n",
    "\n",
    "Y aplicando la fórmula cerrada para una matriz \n",
    "cuadrada de dimensión $n$ como:\n",
    "\n",
    "$$\n",
    "\\left\\| A \\right\\|_{\\infty} = \\max_{1 \\le i \\le n} \\sum_{j=i}^n \\left| a_{ij} \\right|\n",
    "$$\n",
    "\n",
    "Podemos implementarla con la siguiente función `inf_norm_mat()`:"
   ]
  },
  {
   "cell_type": "code",
   "execution_count": 1,
   "id": "1fc524b2",
   "metadata": {},
   "outputs": [],
   "source": [
    "def inf_norm_mat(matrix):\n",
    "    return max(\n",
    "        sum(abs(elem) for elem in row) for row in matrix\n",
    "    )"
   ]
  },
  {
   "cell_type": "markdown",
   "id": "87616bd4",
   "metadata": {},
   "source": [
    "La verificamos para la matriz ejemplo de las notas de \n",
    "clase:\n",
    "\n",
    "$$\n",
    "\\left( \\begin{matrix} 1 & 1 \\\\ 3 & 0 \\end{matrix} \\right)\n",
    "$$\n",
    "\n",
    "En nuestro caso:"
   ]
  },
  {
   "cell_type": "code",
   "execution_count": 2,
   "id": "0590485b",
   "metadata": {},
   "outputs": [
    {
     "data": {
      "text/plain": [
       "3"
      ]
     },
     "execution_count": 2,
     "metadata": {},
     "output_type": "execute_result"
    }
   ],
   "source": [
    "inf_norm_mat([[1,1],[3,0]])"
   ]
  },
  {
   "cell_type": "markdown",
   "id": "7d6f1e27",
   "metadata": {},
   "source": [
    "En el caso de que no fuera posible obtener\n",
    "la fórmula cerrada de nuestra norma (como sería\n",
    "para el caso de una norma $p$ en general)\n",
    "deberíamos aplicar un procedimiento estadístico\n",
    "generando la mayor cantidad posible de vectores $x$\n",
    "que posean norma 1. Definimo así una segunda versión\n",
    "de nuestra función aprovechando que la función \n",
    "`matmul` del paquete `numpy` se comporta como\n",
    "producto escalar si ambos parámetros son vectores\n",
    "de una dimensión:"
   ]
  },
  {
   "cell_type": "code",
   "execution_count": 3,
   "id": "935d8bfb",
   "metadata": {},
   "outputs": [],
   "source": [
    "from random import randint\n",
    "from numpy import matmul\n",
    "\n",
    "\n",
    "def normalize_vec(vector, norm):\n",
    "    return [elem / norm(vector) for elem in vector]\n",
    "\n",
    "\n",
    "def inf_norm_vec(vector):\n",
    "    return max(abs(elem) for elem in vector)\n",
    "\n",
    "\n",
    "def inf_norm_mat2(matrix, sample_size):\n",
    "    return max(\n",
    "        inf_norm_vec(\n",
    "            matmul(\n",
    "                matrix, normalize_vec(vector, inf_norm_vec)\n",
    "            )\n",
    "        )\n",
    "        for vector in (\n",
    "            [\n",
    "                randint(-100, 100)\n",
    "                for _ in range(len(matrix[0]))\n",
    "            ]\n",
    "            for _ in range(sample_size)\n",
    "        )\n",
    "    )"
   ]
  },
  {
   "cell_type": "markdown",
   "id": "8e528cdc",
   "metadata": {},
   "source": [
    "Para determinadas matrices se puede obtener un resultado\n",
    "aceptable con pocas muestras. Reutilizando nuestra matriz\n",
    "de ejemplo:"
   ]
  },
  {
   "cell_type": "code",
   "execution_count": 4,
   "id": "442a2248",
   "metadata": {},
   "outputs": [
    {
     "data": {
      "text/plain": [
       "3.0"
      ]
     },
     "execution_count": 4,
     "metadata": {},
     "output_type": "execute_result"
    }
   ],
   "source": [
    "inf_norm_mat2([[1,1],[3,0]], 10)"
   ]
  },
  {
   "cell_type": "markdown",
   "id": "e6a4c74a",
   "metadata": {},
   "source": [
    "Sin embargo, otras matrices nos obligan a una mayor \n",
    "cantidad de muestra para objener un resultado \n",
    "cercano al de la fórmula cerrada. Con ayuda de nuestra\n",
    "función auxiliar `table` que se lista en el Anexo, \n",
    "construiremos una tabla comparativa para los \n",
    "resultados obtenidos con una matriz en el cálculo\n",
    "de su norma infinita con diferentes tamaños de \n",
    "muestra aleatorias de vectores de norma infinita 1:"
   ]
  },
  {
   "cell_type": "code",
   "execution_count": 5,
   "id": "4e0f338e",
   "metadata": {},
   "outputs": [
    {
     "data": {
      "text/markdown": [
       "|Tamaño de muestra|$\\begin{Vmatrix}A\\end{Vmatrix}_{\\infty}$|\n",
       "|:-:|:-:\n",
       "|1|5.78125|\n",
       "|10|6.136363636363636|\n",
       "|100|7.216216216216217|\n",
       "|1000|7.901234567901234|\n",
       "|10000|7.984615384615385|\n",
       "|100000|8.0|\n"
      ],
      "text/plain": [
       "<IPython.core.display.Markdown object>"
      ]
     },
     "metadata": {},
     "output_type": "display_data"
    }
   ],
   "source": [
    "from auxiliares import tabla\n",
    "\n",
    "tabla(\n",
    "    [10 ** x for x in range(6)],\n",
    "    [\n",
    "        \"Tamaño de muestra\",\n",
    "        \"$\\\\begin{Vmatrix}A\\end{Vmatrix}_{\\infty}$\",\n",
    "    ],\n",
    "    [\n",
    "        repr,\n",
    "        lambda x: inf_norm_mat2([[1, -2, 5], [1, 2, 4]], x),\n",
    "    ],\n",
    ")"
   ]
  },
  {
   "cell_type": "markdown",
   "id": "339b3cf8",
   "metadata": {},
   "source": [
    "#### Ejercicio 11\n",
    "\n",
    "Escribir un código para resolver el sistema matricial $Ax = b$ donde $A$ es una matriz que es una\n",
    "permutación de una matríz triangular superior.\n",
    "\n",
    "##### Solución\n",
    "\n",
    "Asumiendo que la matríz $A$ es una permutación de una matriz triangular\n",
    "superior, aplicamos el algoritmo de resolución de una tal matriz para \n",
    "un vector de valores independientes, siguiendo un ordenamiento dado \n",
    "por una matriz de permutaciones $P$. Es decir, que resolvemos la matriz\n",
    "triangular superior $P \\times A$ para el vector de valores independientes\n",
    "$P \\times b$. Así, la implementación de la función `solve_triu` resulta:"
   ]
  },
  {
   "cell_type": "code",
   "execution_count": 6,
   "id": "6af549cd",
   "metadata": {},
   "outputs": [],
   "source": [
    "from itertools import takewhile\n",
    "from functools import reduce\n",
    "\n",
    "\n",
    "def solve_triu(matrix, values, permut):\n",
    "    n = len(matrix)\n",
    "    perm = []\n",
    "    for row in permut:\n",
    "        for i, elem in enumerate(row):\n",
    "            if elem == 1:\n",
    "                perm.append(i) \n",
    "    return reduce(\n",
    "        lambda r, i: [\n",
    "            (\n",
    "                values[perm[i]]\n",
    "                - matmul(\n",
    "                    matrix[perm[i]][i + 1 : n],\n",
    "                    r,\n",
    "                )\n",
    "            )\n",
    "            / matrix[perm[i]][i]\n",
    "        ]\n",
    "        + r,\n",
    "        reversed(range(n)),\n",
    "        [],\n",
    "    )"
   ]
  },
  {
   "cell_type": "markdown",
   "id": "145450ef",
   "metadata": {},
   "source": [
    "Verifiquemos la función con el siguiente sistema:\n",
    "\n",
    "$$\\left(\\begin{matrix} 1 & 2 & 3 \\\\ 0 & 5 & 4 \\\\ 0 & 0 & 6 \\end{matrix}\\right) \\times \\left(\\begin{matrix} x_1 \\\\ x_2 \\\\ x_3 \\end{matrix}\\right) = \\left(\\begin{matrix} 7 \\\\ 8 \\\\ 9 \\end{matrix}\\right)$$\n",
    "\n",
    "En código:"
   ]
  },
  {
   "cell_type": "code",
   "execution_count": 7,
   "id": "e6b23eb2",
   "metadata": {},
   "outputs": [
    {
     "name": "stdout",
     "output_type": "stream",
     "text": [
      "[1.7000000000000002, 0.4, 1.5]\n"
     ]
    }
   ],
   "source": [
    "A = [[1,2,3],\n",
    "     [0,5,4],\n",
    "     [0,0,6]]\n",
    "b = [7,8,9]\n",
    "P = [[1,0,0],\n",
    "     [0,1,0],\n",
    "     [0,0,1]]\n",
    "x = solve_triu(A, b, P)\n",
    "print(x)"
   ]
  },
  {
   "cell_type": "markdown",
   "id": "ea1a4663",
   "metadata": {},
   "source": [
    "Si nuestra solución es correcta se debe verificar que $P \\times A \\times x = P \\times b$. \n",
    "En nuestro ejemplo aprovechamos que la matriz $P$ es la identidad, por lo que la \n",
    "verificación de la igualdad en código es:"
   ]
  },
  {
   "cell_type": "code",
   "execution_count": 8,
   "id": "a2d2fa10",
   "metadata": {},
   "outputs": [
    {
     "data": {
      "text/plain": [
       "array([7., 8., 9.])"
      ]
     },
     "execution_count": 8,
     "metadata": {},
     "output_type": "execute_result"
    }
   ],
   "source": [
    "matmul(A, solve_triu(A, b, P))"
   ]
  },
  {
   "cell_type": "markdown",
   "id": "d02ccfde",
   "metadata": {},
   "source": [
    "#### Ejercicio 14\n",
    "\n",
    "Usar el proceso de eliminación de Gauss Escalado para encontrar la descomposición $P \\cdot A = L \\cdot U$ (comparar con Python) y resolver en cada uno de los casos.\n",
    "\n",
    "$$\\left(\\begin{matrix} -1 & 1 & -4 \\\\ 2 & 2 & 0 \\\\ 3 & 3 & 2 \\end{matrix}\\right) \\times \\left(\\begin{matrix} x_1 \\\\ x_2 \\\\ x_3 \\end{matrix}\\right) = \\left(\\begin{matrix} 0 \\\\ 1 \\\\ \\frac{1}{2} \\end{matrix}\\right)$$\n",
    "\n",
    "$$\\left(\\begin{matrix} 1 & 6 & 0 \\\\ 2 & 1 & 0 \\\\ 0 & 2 & 1 \\end{matrix}\\right) \\times \\left(\\begin{matrix} x_1 \\\\ x_2 \\\\ x_3 \\end{matrix}\\right) = \\left(\\begin{matrix} 3 \\\\ 1 \\\\ 1 \\end{matrix}\\right)$$\n",
    "\n",
    "##### Solución\n",
    "\n",
    "Primero definimos nuestra implementación de descomposición $LU$ \n",
    "mediante el método de Gauss Escalado para una matriz cuadrada, de manera que nuestra \n",
    "función `lu` devolverá una matriz de permutaciones $P$ y una matriz \n",
    "que corresponde a la suma matriz triangular superior $U$ permutada \n",
    "más una matriz triangular inferior $L$ menos la matriz identidad, \n",
    "también permutada. Es decir que para mejor aprovechamiento\n",
    "de memoria resolveremos la descomposición _in situ_ y nuestro \n",
    "resultado equivaldrá a $P^{-1} \\times (L - I + U)$. Para reconstruir\n",
    "nuestras matrices no hace falta calcular la inversa de la permutación\n",
    "ya que es ella misma. La implementación de la función es:"
   ]
  },
  {
   "cell_type": "code",
   "execution_count": 9,
   "id": "ced2ab89",
   "metadata": {},
   "outputs": [],
   "source": [
    "def lu(matrix):\n",
    "    n = len(matrix)\n",
    "    permut = []\n",
    "    rows = set(range(n))\n",
    "    maxim = [max(row, key=abs) for row in matrix]\n",
    "    for i in range(n):\n",
    "        pivot = max(\n",
    "            rows,\n",
    "            key=lambda j: abs(matrix[j][i] / maxim[j]),\n",
    "        )\n",
    "        rows.remove(pivot)\n",
    "        permut.append(pivot)\n",
    "        for k in rows:\n",
    "            matrix[k][i] /= matrix[pivot][i]\n",
    "            for l in range(i + 1, n):\n",
    "                matrix[k][l] -= (\n",
    "                    matrix[k][i] * matrix[pivot][l]\n",
    "                )\n",
    "    return (\n",
    "        [\n",
    "            [1 if i == p else 0 for i in range(n)]\n",
    "            for p in permut\n",
    "        ],\n",
    "        matrix\n",
    "    )"
   ]
  },
  {
   "cell_type": "markdown",
   "id": "36fe7d1b",
   "metadata": {},
   "source": [
    "De manera que si la intención no es resolver un\n",
    "sistema sino presentar las matrices correspondientes,\n",
    "podremos utilizar funciones de copias de matrices\n",
    "del paquete `numpy`. En nuestro caso:"
   ]
  },
  {
   "cell_type": "code",
   "execution_count": 10,
   "id": "9fd40212",
   "metadata": {},
   "outputs": [],
   "source": [
    "from numpy import triu, tril, identity\n",
    "\n",
    "\n",
    "def split_lu(matrix):\n",
    "    P, G1 = lu(matrix)\n",
    "    G2 = matmul(P, G1)\n",
    "    return P, tril(G2, -1) + identity(len(G2)), triu(G2)"
   ]
  },
  {
   "cell_type": "markdown",
   "id": "2e933198",
   "metadata": {},
   "source": [
    "Compararemos nuestros resultados con los de la implementación de\n",
    "la descomposición que realiza el paquete `scipy` de Python:"
   ]
  },
  {
   "cell_type": "code",
   "execution_count": 11,
   "id": "2026e614",
   "metadata": {},
   "outputs": [
    {
     "name": "stdout",
     "output_type": "stream",
     "text": [
      "[[0, 1, 0], [1, 0, 0], [0, 0, 1]]\n",
      "[[ 1.   0.   0. ]\n",
      " [-0.5  1.   0. ]\n",
      " [ 1.5  0.   1. ]]\n",
      "[[ 2.  2.  0.]\n",
      " [ 0.  2. -4.]\n",
      " [ 0.  0.  2.]]\n",
      "\n",
      "[[0. 1. 0.]\n",
      " [0. 0. 1.]\n",
      " [1. 0. 0.]]\n",
      "[[ 1.          0.          0.        ]\n",
      " [-0.33333333  1.          0.        ]\n",
      " [ 0.66666667  0.          1.        ]]\n",
      "[[ 3.          3.          2.        ]\n",
      " [ 0.          2.         -3.33333333]\n",
      " [ 0.          0.         -1.33333333]]\n"
     ]
    }
   ],
   "source": [
    "from scipy.linalg import lu as lu2\n",
    "P1, L1, U1 = split_lu([[-1,1,-4],[2,2,0],[3,3,2]])\n",
    "P2, L2, U2 = lu2([[-1,1,-4],[2,2,0],[3,3,2]])\n",
    "print(P1, L1, U1, sep=\"\\n\", end=\"\\n\\n\")\n",
    "print(P2, L2, U2, sep=\"\\n\")"
   ]
  },
  {
   "cell_type": "markdown",
   "id": "f684c914",
   "metadata": {},
   "source": [
    "Como podemos observar, las descomposiciones\n",
    "son diferentes, lo que es esperable ya que\n",
    "también difieren los pivotes elegidos. Puesto\n",
    "que si existe una descomposición $LU$ entonces\n",
    "existen infinitas, debemos verificar que ambas \n",
    "cumplan con la igualdad $A = P^{-1}LU$, teniendo\n",
    "en cuenta que la inversa de la matriz permutaciones\n",
    "es la propia matriz de permutaciones:"
   ]
  },
  {
   "cell_type": "code",
   "execution_count": 12,
   "id": "19f81714",
   "metadata": {},
   "outputs": [
    {
     "name": "stdout",
     "output_type": "stream",
     "text": [
      "[[-1.  1. -4.]\n",
      " [ 2.  2.  0.]\n",
      " [ 3.  3.  2.]]\n",
      "\n",
      "[[-1.  1. -4.]\n",
      " [ 2.  2.  0.]\n",
      " [ 3.  3.  2.]]\n"
     ]
    }
   ],
   "source": [
    "print(matmul(P1, matmul(L1,U1)), end=\"\\n\\n\")\n",
    "print(matmul(P2, matmul(L2,U2)))"
   ]
  },
  {
   "cell_type": "markdown",
   "id": "384c908d",
   "metadata": {},
   "source": [
    "Para resolver nuestros sistemas sólo nos falta resolver\n",
    "el caso de una matriz triangular inferior. Su algoritmo\n",
    "es muy simular al de la matriz triangular superior con\n",
    "la salvedad de que en este caso asumiremos que la \n",
    "diagonal es la identidad a menos que se indique lo\n",
    "contrario, mecanismo habitual para aprovechar la \n",
    "descomposición _in situ_. Veamos su implementación:"
   ]
  },
  {
   "cell_type": "code",
   "execution_count": 13,
   "id": "affbfa1a",
   "metadata": {},
   "outputs": [],
   "source": [
    "def solve_tril(matrix, values, permut, identity=True):\n",
    "    n = len(matrix)\n",
    "    perm = []\n",
    "    for row in permut:\n",
    "        for i, elem in enumerate(row):\n",
    "            if elem == 1:\n",
    "                perm.append(i) \n",
    "    return reduce(\n",
    "        lambda r, i: r + [\n",
    "            (\n",
    "                values[perm[i]]\n",
    "                - matmul(\n",
    "                    matrix[perm[i]][:i],\n",
    "                    r,\n",
    "                )\n",
    "            )\n",
    "            / (1 if identity else matrix[perm[i]][i])\n",
    "        ],\n",
    "        range(n),\n",
    "        [],\n",
    "    )"
   ]
  },
  {
   "cell_type": "markdown",
   "id": "cad4fbe8",
   "metadata": {},
   "source": [
    "Verifiquemos su funcionamiento con un ejemplo\n",
    "en espejo al utilizado al verificar el \n",
    "algoritmo para solucionar la matriz triangular superior:\n",
    "\n",
    "$$\\left(\\begin{matrix} 6 & 0 & 0 \\\\ 4 & 5 & 0 \\\\ 3 & 2 & 1 \\end{matrix}\\right) \\times \\left(\\begin{matrix} x_1 \\\\ x_2 \\\\ x_3 \\end{matrix}\\right) = \\left(\\begin{matrix} 9 \\\\ 8 \\\\ 7 \\end{matrix}\\right)$$\n",
    "\n",
    "En código:"
   ]
  },
  {
   "cell_type": "code",
   "execution_count": 14,
   "id": "b84acbd2",
   "metadata": {},
   "outputs": [
    {
     "data": {
      "text/plain": [
       "[1.5, 0.4, 1.7000000000000002]"
      ]
     },
     "execution_count": 14,
     "metadata": {},
     "output_type": "execute_result"
    }
   ],
   "source": [
    "A = [[6,0,0],\n",
    "     [4,5,0],\n",
    "     [3,2,1]]\n",
    "b = [9,8,7]\n",
    "P = [[1,0,0],\n",
    "     [0,1,0],\n",
    "     [0,0,1]]\n",
    "solve_tril(A, b, P, identity=False)"
   ]
  },
  {
   "cell_type": "markdown",
   "id": "339758a0",
   "metadata": {},
   "source": [
    "Si nuestra solución es correcta se debe verificar que $P \\times A \\times x = P \\times b$. \n",
    "Nuevamente, en nuestro ejemplo aprovechamos que la matriz $P$ es la identidad, por lo que la \n",
    "verificación de la igualdad en código es:"
   ]
  },
  {
   "cell_type": "code",
   "execution_count": 15,
   "id": "58589f79",
   "metadata": {},
   "outputs": [
    {
     "data": {
      "text/plain": [
       "array([9., 8., 7.])"
      ]
     },
     "execution_count": 15,
     "metadata": {},
     "output_type": "execute_result"
    }
   ],
   "source": [
    "matmul(A, solve_tril(A, b, P, identity=False))"
   ]
  },
  {
   "cell_type": "markdown",
   "id": "b9938449",
   "metadata": {},
   "source": [
    "Ahora estamos en condiciones de resolver nuestro\n",
    "primer sistema:\n",
    "\n",
    "$$\\left(\\begin{matrix} -1 & 1 & -4 \\\\ 2 & 2 & 0 \\\\ 3 & 3 & 2 \\end{matrix}\\right) \\times \\left(\\begin{matrix} x_1 \\\\ x_2 \\\\ x_3 \\end{matrix}\\right) = \\left(\\begin{matrix} 0 \\\\ 1 \\\\ \\frac{1}{2} \\end{matrix}\\right)$$\n",
    "\n",
    "En código:"
   ]
  },
  {
   "cell_type": "code",
   "execution_count": 16,
   "id": "eb2ef521",
   "metadata": {},
   "outputs": [
    {
     "name": "stdout",
     "output_type": "stream",
     "text": [
      "[1.25, -0.75, -0.5]\n"
     ]
    }
   ],
   "source": [
    "P, L, U = split_lu([[-1,1,-4],[2,2,0],[3,3,2]])\n",
    "I = identity(3)\n",
    "x = solve_triu(U, solve_tril(L, matmul(P,[0, 1, 1/2]), I), I)\n",
    "print(x)"
   ]
  },
  {
   "cell_type": "markdown",
   "id": "88a5d6b0",
   "metadata": {},
   "source": [
    "Verifiquemos el resultado ya que $A \\times x = b $:"
   ]
  },
  {
   "cell_type": "code",
   "execution_count": 17,
   "id": "e5eb6088",
   "metadata": {},
   "outputs": [
    {
     "data": {
      "text/plain": [
       "array([0. , 1. , 0.5])"
      ]
     },
     "execution_count": 17,
     "metadata": {},
     "output_type": "execute_result"
    }
   ],
   "source": [
    "matmul([[-1,1,-4],[2,2,0],[3,3,2]], x)"
   ]
  },
  {
   "cell_type": "markdown",
   "id": "1cc546fc",
   "metadata": {},
   "source": [
    "En el caso que queramos trabajar con las matrices\n",
    "_in situ_, será necesario permutar el resultado\n",
    "intermedio en vez del vector de valores \n",
    "independientes, de modo que:"
   ]
  },
  {
   "cell_type": "code",
   "execution_count": 18,
   "id": "626f52ed",
   "metadata": {},
   "outputs": [
    {
     "name": "stdout",
     "output_type": "stream",
     "text": [
      "[1.25, -0.75, -0.5]\n"
     ]
    }
   ],
   "source": [
    "P, G = lu([[-1,1,-4],[2,2,0],[3,3,2]])\n",
    "x = solve_triu(G, matmul(P, solve_tril(G, [0, 1, 1/2], P)), P)\n",
    "print(x)"
   ]
  },
  {
   "cell_type": "markdown",
   "id": "8f02760b",
   "metadata": {},
   "source": [
    "Usaremos este método para el siguiente sistema:\n",
    "\n",
    "$$\\left(\\begin{matrix} 1 & 6 & 0 \\\\ 2 & 1 & 0 \\\\ 0 & 2 & 1 \\end{matrix}\\right) \\times \\left(\\begin{matrix} x_1 \\\\ x_2 \\\\ x_3 \\end{matrix}\\right) = \\left(\\begin{matrix} 3 \\\\ 1 \\\\ 1 \\end{matrix}\\right)$$\n",
    "\n",
    "En código:"
   ]
  },
  {
   "cell_type": "code",
   "execution_count": 19,
   "id": "de0e8cd4",
   "metadata": {},
   "outputs": [
    {
     "name": "stdout",
     "output_type": "stream",
     "text": [
      "[-0.46590909090909094, 0.6818181818181819, -0.36363636363636365]\n"
     ]
    }
   ],
   "source": [
    "P, G = lu([[1,6,0],[2,1,0],[0,2,1]])\n",
    "x = solve_triu(G, matmul(P, solve_tril(G, [3, 1, 1], P)), P)\n",
    "print(x)"
   ]
  },
  {
   "cell_type": "markdown",
   "id": "6060761f",
   "metadata": {},
   "source": [
    "Verificamos el resultado:"
   ]
  },
  {
   "cell_type": "code",
   "execution_count": 20,
   "id": "2c7fd974",
   "metadata": {},
   "outputs": [
    {
     "data": {
      "text/plain": [
       "array([ 3.625, -0.25 ,  1.   ])"
      ]
     },
     "execution_count": 20,
     "metadata": {},
     "output_type": "execute_result"
    }
   ],
   "source": [
    "matmul([[1,6,0],[2,1,0],[0,2,1]], x)"
   ]
  },
  {
   "cell_type": "markdown",
   "id": "b61853ca",
   "metadata": {},
   "source": [
    "Como se puede ver, hemos obtenido una solición con\n",
    "un error considerable con respecto a la deseado.\n",
    "Verifiquemos con las librerías del lenguaje"
   ]
  },
  {
   "cell_type": "code",
   "execution_count": 21,
   "id": "44391412",
   "metadata": {},
   "outputs": [
    {
     "name": "stdout",
     "output_type": "stream",
     "text": [
      "[0.2727272727272727, 0.45454545454545453, 0.09090909090909083]\n"
     ]
    }
   ],
   "source": [
    "P, L, U = lu2([[1,6,0],[2,1,0],[0,2,1]])\n",
    "x = solve_triu(U, solve_tril(L, matmul(P,[3, 1, 1]), I), I)\n",
    "print(x)"
   ]
  },
  {
   "cell_type": "markdown",
   "id": "dc0bd470",
   "metadata": {},
   "source": [
    "Finalmente, comprobemos cuan cerca de la solución está:"
   ]
  },
  {
   "cell_type": "code",
   "execution_count": 22,
   "id": "d7a2584e",
   "metadata": {},
   "outputs": [
    {
     "data": {
      "text/plain": [
       "array([3., 1., 1.])"
      ]
     },
     "execution_count": 22,
     "metadata": {},
     "output_type": "execute_result"
    }
   ],
   "source": [
    "matmul([[1,6,0],[2,1,0],[0,2,1]], x)"
   ]
  },
  {
   "cell_type": "markdown",
   "id": "4ec028a1",
   "metadata": {},
   "source": [
    "#### Ejercicio 15\n",
    "\n",
    "Calcular los primeros 100 términos del método de Richardson para el sistema\n",
    "\n",
    "$$\n",
    "    \\left(\\begin{matrix} 1 & 1/2 & 1/3 \\\\ 1/3 & 1 & 1/2 \\\\ 1/2 & 1/3 & 1 \\end{matrix}\\right) \n",
    "    \\times \n",
    "    \\left(\\begin{matrix} x_1 \\\\ x_2 \\\\ x_3 \\end{matrix}\\right)\n",
    "    = \n",
    "    \\left(\\begin{matrix} 11/18 \\\\ 11/18 \\\\ 11/18 \\end{matrix}\\right)\n",
    "$$\n",
    "\n",
    "##### Solución\n",
    "\n",
    "Sabemos que el método de Richardson pertenece\n",
    "a la familia de métodos iterativos tal que:\n",
    "\n",
    "$$ Q \\times x_{k} = (Q - A) \\times x_{k-1} + b $$\n",
    "\n",
    "En el caso del método de Richardson, $Q = I$, por lo\n",
    "que nuestra fórmula iterativa resulta:\n",
    "\n",
    "$$ x_{k} = (I - A) \\times x_{k-1} + b $$\n",
    "\n",
    "Si tomamos arbitrariamente que $x_0 = 0$ entonces $x_1 = b$, que es desde dónde comenzaremos la iteración en\n",
    "caso de que no se provea una solución inicial. Nuestra implementación resulta:"
   ]
  },
  {
   "cell_type": "code",
   "execution_count": 23,
   "id": "4451f43a",
   "metadata": {},
   "outputs": [],
   "source": [
    "def richardson(matrix, values, terms, guess=None):\n",
    "    results = []\n",
    "    if not guess:\n",
    "        guess = values\n",
    "    matrix = identity(len(matrix)) - matrix \n",
    "    for _ in range(terms):\n",
    "        results.append(guess)\n",
    "        guess = matmul(matrix, guess) + values \n",
    "    return results"
   ]
  },
  {
   "cell_type": "markdown",
   "id": "f302e261",
   "metadata": {},
   "source": [
    "Resolvemos ahora el ejercicio con el siguiente código:"
   ]
  },
  {
   "cell_type": "code",
   "execution_count": 24,
   "id": "2d275cb9",
   "metadata": {},
   "outputs": [
    {
     "name": "stdout",
     "output_type": "stream",
     "text": [
      "[0.6111111111111112, 0.6111111111111112, 0.6111111111111112]\n",
      "[0.10185185 0.10185185 0.10185185]\n",
      "[0.52623457 0.52623457 0.52623457]\n",
      "[0.1725823 0.1725823 0.1725823]\n",
      "[0.46729252 0.46729252 0.46729252]\n",
      "[0.22170067 0.22170067 0.22170067]\n",
      "[0.42636055 0.42636055 0.42636055]\n",
      "[0.25581065 0.25581065 0.25581065]\n",
      "[0.39793557 0.39793557 0.39793557]\n",
      "[0.27949814 0.27949814 0.27949814]\n",
      "[0.378196 0.378196 0.378196]\n",
      "[0.29594778 0.29594778 0.29594778]\n",
      "[0.36448796 0.36448796 0.36448796]\n",
      "[0.30737114 0.30737114 0.30737114]\n",
      "[0.35496849 0.35496849 0.35496849]\n",
      "[0.31530404 0.31530404 0.31530404]\n",
      "[0.34835775 0.34835775 0.34835775]\n",
      "[0.32081299 0.32081299 0.32081299]\n",
      "[0.34376695 0.34376695 0.34376695]\n",
      "[0.32463865 0.32463865 0.32463865]\n",
      "[0.3405789 0.3405789 0.3405789]\n",
      "[0.32729536 0.32729536 0.32729536]\n",
      "[0.33836498 0.33836498 0.33836498]\n",
      "[0.32914029 0.32914029 0.32914029]\n",
      "[0.33682753 0.33682753 0.33682753]\n",
      "[0.3304215 0.3304215 0.3304215]\n",
      "[0.33575986 0.33575986 0.33575986]\n",
      "[0.33131123 0.33131123 0.33131123]\n",
      "[0.33501842 0.33501842 0.33501842]\n",
      "[0.33192909 0.33192909 0.33192909]\n",
      "[0.33450353 0.33450353 0.33450353]\n",
      "[0.33235817 0.33235817 0.33235817]\n",
      "[0.33414597 0.33414597 0.33414597]\n",
      "[0.33265613 0.33265613 0.33265613]\n",
      "[0.33389767 0.33389767 0.33389767]\n",
      "[0.33286306 0.33286306 0.33286306]\n",
      "[0.33372523 0.33372523 0.33372523]\n",
      "[0.33300675 0.33300675 0.33300675]\n",
      "[0.33360548 0.33360548 0.33360548]\n",
      "[0.33310654 0.33310654 0.33310654]\n",
      "[0.33352233 0.33352233 0.33352233]\n",
      "[0.33317584 0.33317584 0.33317584]\n",
      "[0.33346458 0.33346458 0.33346458]\n",
      "[0.33322396 0.33322396 0.33322396]\n",
      "[0.33342448 0.33342448 0.33342448]\n",
      "[0.33325738 0.33325738 0.33325738]\n",
      "[0.33339663 0.33339663 0.33339663]\n",
      "[0.33328059 0.33328059 0.33328059]\n",
      "[0.33337729 0.33337729 0.33337729]\n",
      "[0.33329671 0.33329671 0.33329671]\n",
      "[0.33336386 0.33336386 0.33336386]\n",
      "[0.3333079 0.3333079 0.3333079]\n",
      "[0.33335453 0.33335453 0.33335453]\n",
      "[0.33331567 0.33331567 0.33331567]\n",
      "[0.33334805 0.33334805 0.33334805]\n",
      "[0.33332107 0.33332107 0.33332107]\n",
      "[0.33334356 0.33334356 0.33334356]\n",
      "[0.33332481 0.33332481 0.33332481]\n",
      "[0.33334043 0.33334043 0.33334043]\n",
      "[0.33332742 0.33332742 0.33332742]\n",
      "[0.33333826 0.33333826 0.33333826]\n",
      "[0.33332923 0.33332923 0.33332923]\n",
      "[0.33333676 0.33333676 0.33333676]\n",
      "[0.33333048 0.33333048 0.33333048]\n",
      "[0.33333571 0.33333571 0.33333571]\n",
      "[0.33333135 0.33333135 0.33333135]\n",
      "[0.33333498 0.33333498 0.33333498]\n",
      "[0.33333196 0.33333196 0.33333196]\n",
      "[0.33333448 0.33333448 0.33333448]\n",
      "[0.33333238 0.33333238 0.33333238]\n",
      "[0.33333413 0.33333413 0.33333413]\n",
      "[0.33333267 0.33333267 0.33333267]\n",
      "[0.33333389 0.33333389 0.33333389]\n",
      "[0.33333287 0.33333287 0.33333287]\n",
      "[0.33333372 0.33333372 0.33333372]\n",
      "[0.33333301 0.33333301 0.33333301]\n",
      "[0.3333336 0.3333336 0.3333336]\n",
      "[0.33333311 0.33333311 0.33333311]\n",
      "[0.33333352 0.33333352 0.33333352]\n",
      "[0.33333318 0.33333318 0.33333318]\n",
      "[0.33333346 0.33333346 0.33333346]\n",
      "[0.33333323 0.33333323 0.33333323]\n",
      "[0.33333342 0.33333342 0.33333342]\n",
      "[0.33333326 0.33333326 0.33333326]\n",
      "[0.3333334 0.3333334 0.3333334]\n",
      "[0.33333328 0.33333328 0.33333328]\n",
      "[0.33333338 0.33333338 0.33333338]\n",
      "[0.3333333 0.3333333 0.3333333]\n",
      "[0.33333336 0.33333336 0.33333336]\n",
      "[0.33333331 0.33333331 0.33333331]\n",
      "[0.33333335 0.33333335 0.33333335]\n",
      "[0.33333332 0.33333332 0.33333332]\n",
      "[0.33333335 0.33333335 0.33333335]\n",
      "[0.33333332 0.33333332 0.33333332]\n",
      "[0.33333334 0.33333334 0.33333334]\n",
      "[0.33333332 0.33333332 0.33333332]\n",
      "[0.33333334 0.33333334 0.33333334]\n",
      "[0.33333333 0.33333333 0.33333333]\n",
      "[0.33333334 0.33333334 0.33333334]\n",
      "[0.33333333 0.33333333 0.33333333]\n"
     ]
    }
   ],
   "source": [
    "r = richardson(\n",
    "        [[1, 1/2, 1/3],\n",
    "         [1/3, 1, 1/2],\n",
    "         [1/2, 1/3, 1]], \n",
    "        [11/18,\n",
    "         11/18,\n",
    "         11/18],\n",
    "        100\n",
    "    )\n",
    "print(*r, sep=\"\\n\")"
   ]
  },
  {
   "cell_type": "markdown",
   "id": "2d4df06a",
   "metadata": {},
   "source": [
    "Comprobemos la exactitud de la solución:"
   ]
  },
  {
   "cell_type": "code",
   "execution_count": 25,
   "id": "d222a2a2",
   "metadata": {},
   "outputs": [
    {
     "data": {
      "text/plain": [
       "array([0.6111111, 0.6111111, 0.6111111])"
      ]
     },
     "execution_count": 25,
     "metadata": {},
     "output_type": "execute_result"
    }
   ],
   "source": [
    "matmul(\n",
    "    [[1, 1/2, 1/3],\n",
    "     [1/3, 1, 1/2],\n",
    "     [1/2, 1/3, 1]], \n",
    "    r[-1]\n",
    ")"
   ]
  },
  {
   "cell_type": "markdown",
   "id": "45b1d540",
   "metadata": {},
   "source": [
    "#### Ejercicio 16\n",
    "\n",
    "Escribir un algoritmo para calcular los primeros M pasos del método de Jacobi, y Gauss-Seidel.\n",
    "\n",
    "##### Solución\n",
    "\n",
    "Para el caso del método de Jacobi, sabemos que\n",
    "pertenece a la misma familia que la del método\n",
    "de Richardson, sólo que en este caso la matriz\n",
    "$Q$ es la matriz diagonal de $A$ por lo que su \n",
    "inversa es fácilmente calculable:\n",
    "\n",
    "$$ Q^{-1}_{ij} = \\left\\{ \\begin{matrix} \n",
    "        \\frac{1}{A_{ij}} \\quad \\text{si} \\quad i = j \\\\\n",
    "        0 \\quad \\text{si} \\quad i \\ne j\n",
    "                    \\end{matrix}\n",
    "            \\right.\n",
    "$$\n",
    "\n",
    "Por lo que nuestra fórmula iterativa resulta:\n",
    "\n",
    "$$ x_{k} = (I - Q^{-1}A) \\times x_{k-1} + Q^{-1} \\times b $$\n",
    "\n",
    "Con $G = (I - Q^{-1}A)$ definida como:\n",
    "\n",
    "$$\n",
    "G_{ij} = \\left\\{\\begin{matrix}\n",
    "            0 \\quad \\text{si} \\quad i = j \\\\\n",
    "            - a_{ij} / a_{ii} \\quad \\text{si} \\quad i \\ne j\n",
    "        \\end{matrix}\\right.\n",
    "$$\n",
    "\n",
    "Nuestra implementación resulta entonces:"
   ]
  },
  {
   "cell_type": "code",
   "execution_count": 26,
   "id": "cf50dd65",
   "metadata": {},
   "outputs": [],
   "source": [
    "def jacobi(matrix, values, terms, guess=None):\n",
    "    results = []\n",
    "    if not guess:\n",
    "        guess = values\n",
    "    for i, row in enumerate(matrix):\n",
    "        diag = row[i]\n",
    "        values[i] /= diag\n",
    "        for j, elem in enumerate(row):\n",
    "            matrix[i][j] = 0 if i == j else - elem / diag\n",
    "    for _ in range(terms):\n",
    "        results.append(guess)\n",
    "        guess = matmul(matrix, guess) + values \n",
    "    return results"
   ]
  },
  {
   "cell_type": "markdown",
   "id": "618844cd",
   "metadata": {},
   "source": [
    "En el caso del método de Gauss-Seidel, la matriz\n",
    "$Q$ resulta ser la tringular inferior de $A$, pero\n",
    "como en este caso el cálculo de su inversa podría\n",
    "resultar costoso, utilizaremos la fórmula iterativa:\n",
    "\n",
    "$$ Q \\times x_{k} = (Q - A) \\times x_{k-1} + b $$\n",
    "\n",
    "Donde $Q - A$ resulta ser la opuesta aditiva de\n",
    "la triangular superior de $A$ menos los elementos \n",
    "de la diagonal, de manera que\n",
    "nos queda por resolver un sistema triangular \n",
    "inferior. Su implementación:"
   ]
  },
  {
   "cell_type": "code",
   "execution_count": 27,
   "id": "c12a611e",
   "metadata": {},
   "outputs": [],
   "source": [
    "def gauss_siedel(matrix, values, terms, guess=None):\n",
    "    results = []\n",
    "    if not guess:\n",
    "        guess = values\n",
    "    trian = tril(matrix)\n",
    "    matrix = -triu(matrix, 1) \n",
    "    for _ in range(terms):\n",
    "        guess = solve_tril(\n",
    "            trian, \n",
    "            matmul(matrix, guess) + values,\n",
    "            identity(len(trian)),\n",
    "            identity=False\n",
    "        )\n",
    "        results.append(guess)\n",
    "    return results"
   ]
  },
  {
   "cell_type": "markdown",
   "id": "e144a129",
   "metadata": {},
   "source": [
    "#### Ejercicio 17\n",
    "\n",
    "Para el siguiente sistema mostrar que tanto Gauss-Seidel como Jacobi convergen para cualquier valor\n",
    "inicial. Usar el ı́tem anterior para estimar la solución.\n",
    "\n",
    "$$\n",
    "    \\left(\\begin{matrix} 2 & -1 & 0 \\\\ 1 & 6 & -2 \\\\ 4 & -3 & 8 \\end{matrix}\\right) \n",
    "    \\times \n",
    "    \\left(\\begin{matrix} x_1 \\\\ x_2 \\\\ x_3 \\end{matrix}\\right)\n",
    "    = \n",
    "    \\left(\\begin{matrix} 2 \\\\ -4 \\\\ 5 \\end{matrix}\\right)\n",
    "$$\n",
    "\n",
    "##### Solución\n",
    "\n",
    "Mostramos a continuación como la solución para \n",
    "la matriz del ejercicio converge tanto en el\n",
    "caso del método de Gauss-Seidel como el de \n",
    "Jacobi por ser ésta diagonal dominante:\n",
    "\n",
    "Finalmente estimamos la solución para los\n",
    "primero 50 términos de cada método y los\n",
    "presentamos en la siguiente tabla:"
   ]
  },
  {
   "cell_type": "code",
   "execution_count": 31,
   "id": "62d8a8cb",
   "metadata": {},
   "outputs": [
    {
     "data": {
      "text/markdown": [
       "|n|Jacobi $x_n$|Gauss-Siedel $x_n$|\n",
       "|:-:|:-:|:-:\n",
       "|0|[1.0, -0.6666666666666666, 0.625]|[-1.0, 1.1666666666666667, 1.5625]|\n",
       "|1|[ 0.66666667 -0.625      -0.125     ]|[1.5833333333333335, -0.40972222222222227, -0.3203125000000001]|\n",
       "|2|[ 0.6875     -0.81944444  0.05729167]|[0.7951388888888888, -0.9059606481481483, -0.1123046875]|\n",
       "|3|[ 0.59027778 -0.76215278 -0.02604167]|[0.5470196759259258, -0.7952715084876543, 0.05326334635416674]|\n",
       "|4|[ 0.61892361 -0.77372685  0.04405382]|[0.6023642457561729, -0.7493062588413065, 0.04282803005642366]|\n",
       "|5|[ 0.61313657 -0.755136    0.02539062]|[0.6253468705793468, -0.7566151350777499, 0.028595889056170387]|\n",
       "|6|[ 0.622432   -0.76039255  0.03525571]|[0.621692432461125, -0.7607501090581307, 0.02887249287263849]|\n",
       "|7|[ 0.61980372 -0.75865343  0.02863679]|[0.6196249454709346, -0.7603133266209429, 0.030070029781679164]|\n",
       "|8|[ 0.62067329 -0.76042169  0.0306031 ]|[0.6198433366895286, -0.759950546187695, 0.030096876834850073]|\n",
       "|9|[ 0.61978915 -0.75991118  0.02950522]|[0.6200247269061525, -0.7599718288727422, 0.02999820071964543]|\n",
       "|10|[ 0.62004441 -0.76012978  0.03013873]|[0.6200140855636289, -0.7600029473540563, 0.02999185196041443]|\n"
      ],
      "text/plain": [
       "<IPython.core.display.Markdown object>"
      ]
     },
     "metadata": {},
     "output_type": "display_data"
    }
   ],
   "source": [
    "j = jacobi([[2,-1,0],[1,6,-2],[4,-3,8]], [2,-4,5], 11)\n",
    "g = gauss_siedel([[2,-1,0],[1,6,-2],[4,-3,8]], [2,-4,5], 11)\n",
    "tabla(\n",
    "    zip(range(11), j, g),\n",
    "    [\n",
    "        \"n\",\n",
    "        \"Jacobi $x_n$\",\n",
    "        \"Gauss-Siedel $x_n$\"\n",
    "    ]\n",
    ")"
   ]
  },
  {
   "cell_type": "markdown",
   "id": "60ac0e4d",
   "metadata": {},
   "source": [
    "Verificamos como para el caso del método de Jacobi\n",
    "la solución es ya de tres cifras significativas\n",
    "ya en el onceavo término:"
   ]
  },
  {
   "cell_type": "code",
   "execution_count": 32,
   "id": "1026b7d2",
   "metadata": {},
   "outputs": [
    {
     "data": {
      "text/plain": [
       "array([ 2.0002186 , -4.00101176,  5.00167683])"
      ]
     },
     "execution_count": 32,
     "metadata": {},
     "output_type": "execute_result"
    }
   ],
   "source": [
    "m = [[2,-1,0],[1,6,-2],[4,-3,8]]\n",
    "matmul(m, j[-1])"
   ]
  },
  {
   "cell_type": "markdown",
   "id": "2375c5c4",
   "metadata": {},
   "source": [
    "Hacemos lo mismo con el método de Gauss-Siedel:"
   ]
  },
  {
   "cell_type": "code",
   "execution_count": 33,
   "id": "077f406f",
   "metadata": {},
   "outputs": [
    {
     "data": {
      "text/plain": [
       "array([ 2.00003112, -3.9999873 ,  5.        ])"
      ]
     },
     "execution_count": 33,
     "metadata": {},
     "output_type": "execute_result"
    }
   ],
   "source": [
    "matmul(m, g[-1])"
   ]
  }
 ],
 "metadata": {
  "kernelspec": {
   "display_name": "Python 3",
   "language": "python",
   "name": "python3"
  },
  "language_info": {
   "codemirror_mode": {
    "name": "ipython",
    "version": 3
   },
   "file_extension": ".py",
   "mimetype": "text/x-python",
   "name": "python",
   "nbconvert_exporter": "python",
   "pygments_lexer": "ipython3",
   "version": "3.8.5"
  }
 },
 "nbformat": 4,
 "nbformat_minor": 5
}
