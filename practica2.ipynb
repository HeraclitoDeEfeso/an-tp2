{
 "cells": [
  {
   "cell_type": "markdown",
   "id": "e6204c94",
   "metadata": {},
   "source": [
    "#### Ejercicio 7\n",
    "\n",
    "Escribir un código para estimar la norma infinito de una matriz, usar la fórmula cerrada. Cómo\n",
    "serı́a un código si no tenemos una fórmula cerrada? Comparar.\n",
    "\n",
    "##### Solución\n",
    "\n",
    "Partiendo de la definición de norma infinito para una matriz a partir de la norma vectorial:\n",
    "\n",
    "$$\n",
    "\\left\\| A \\right\\|_{\\infty} = \\sup \\left\\{ \\left\\| Ax \\right\\|_{\\infty} : \\left\\| x \\right\\|_{\\infty} = 1 \\right\\}\n",
    "$$\n",
    "\n",
    "Y aplicando la fórmula cerrada para una matriz \n",
    "cuadrada de dimensión $n$ como:\n",
    "\n",
    "$$\n",
    "\\left\\| A \\right\\|_{\\infty} = \\max_{1 \\le i \\le n} \\sum_{j=i}^n \\left| a_{ij} \\right|\n",
    "$$\n",
    "\n",
    "Podemos implementarla con la siguiente función `infnorm()`:"
   ]
  },
  {
   "cell_type": "code",
   "execution_count": 1,
   "id": "dc695424",
   "metadata": {},
   "outputs": [],
   "source": [
    "def infnorm(matrix):\n",
    "    return max(sum(abs(elem) for elem in row) for row in matrix)"
   ]
  },
  {
   "cell_type": "markdown",
   "id": "0326125c",
   "metadata": {},
   "source": [
    "La verificamos para la matriz ejemplo de las notas de \n",
    "clase:\n",
    "\n",
    "$$\n",
    "\\left( \\begin{matrix} 1 & 1 \\\\ 3 & 0 \\end{matrix} \\right)\n",
    "$$\n",
    "\n",
    "En nuestro caso:"
   ]
  },
  {
   "cell_type": "code",
   "execution_count": 3,
   "id": "d498d15f",
   "metadata": {},
   "outputs": [
    {
     "data": {
      "text/plain": [
       "3"
      ]
     },
     "execution_count": 3,
     "metadata": {},
     "output_type": "execute_result"
    }
   ],
   "source": [
    "infnorm([[1,1],[3,0]])"
   ]
  },
  {
   "cell_type": "markdown",
   "id": "70b65567",
   "metadata": {},
   "source": [
    "En el caso de que no fuera posible obtener\n",
    "la fórmula cerrada de nuestra norma (como sería\n",
    "para el caso de una norma $p$ en general)\n",
    "deberíamos aplicar un procedimiento probabilístico\n",
    "generando la mayor cantidad posible de vectores $x$\n",
    "que posean norma 1. Definimo así una segunda versión\n",
    "de nuestra función:"
   ]
  },
  {
   "cell_type": "code",
   "execution_count": 38,
   "id": "a094105a",
   "metadata": {},
   "outputs": [],
   "source": [
    "from random import randint\n",
    "from numpy import matmul\n",
    "def infnorm2(matrix, sample_size):\n",
    "    def vecnorm(vector):\n",
    "        return [elem / max(vector) for elem in vector]\n",
    "    def infnormvec(vector):\n",
    "        return max(abs(elem) for elem in vector)\n",
    "    vectors = [[randint(1, 100) for _ in range(len(matrix[0]))] for _ in range(sample_size)]\n",
    "    return max(infnormvec(matmul(matrix, vecnorm(vector))) for vector in vectors)"
   ]
  },
  {
   "cell_type": "markdown",
   "id": "926f9e57",
   "metadata": {},
   "source": [
    "Para determinadas matrices se puede obtener un resultado\n",
    "aceptable con pocas muestras. Reutilizando nuestra matriz\n",
    "de ejemplo:"
   ]
  },
  {
   "cell_type": "code",
   "execution_count": 39,
   "id": "81d0ca0d",
   "metadata": {},
   "outputs": [
    {
     "data": {
      "text/plain": [
       "3.0"
      ]
     },
     "execution_count": 39,
     "metadata": {},
     "output_type": "execute_result"
    }
   ],
   "source": [
    "infnorm2([[1,1],[3,0]], 10)"
   ]
  },
  {
   "cell_type": "markdown",
   "id": "1dac28e5",
   "metadata": {},
   "source": [
    "Sin embargo, otras matrices nos obligan a una mayor \n",
    "cantidad de muestra para objener un resultado \n",
    "cercano al de la fórmula cerrada. Con ayuda de nuestra\n",
    "función auxiliar `table` que se lista en el Anexo, \n",
    "construiremos una tabla comparativa para los \n",
    "resultados obtenidos con una matriz en el cálculo\n",
    "de su norma infinita con diferentes tamaños de \n",
    "muestra aleatorias de vectores de norma infinita 1:"
   ]
  },
  {
   "cell_type": "code",
   "execution_count": 58,
   "id": "b67f81fd",
   "metadata": {},
   "outputs": [
    {
     "data": {
      "text/markdown": [
       "|Tamaño de muestra|$\\begin{Vmatrix}A\\end{Vmatrix}_{\\infty}$|\n",
       "|:-:|:-:\n",
       "|1|7.516129032258064|\n",
       "|10|8.824175824175823|\n",
       "|100|10.206521739130434|\n",
       "|1000|10.563218390804597|\n",
       "|10000|10.872093023255815|\n",
       "|100000|10.947368421052632|\n"
      ],
      "text/plain": [
       "<IPython.core.display.Markdown object>"
      ]
     },
     "metadata": {},
     "output_type": "display_data"
    }
   ],
   "source": [
    "from auxiliares import tabla\n",
    "tabla(\n",
    "    [10 ** x for x in range(6)],\n",
    "    [\"Tamaño de muestra\", \"$\\\\begin{Vmatrix}A\\end{Vmatrix}_{\\infty}$\"],\n",
    "    [repr, lambda x: infnorm2([[1,2,3,5],[1,2,3,4]], x)]  \n",
    ")"
   ]
  },
  {
   "cell_type": "code",
   "execution_count": null,
   "id": "50321a37",
   "metadata": {},
   "outputs": [],
   "source": []
  }
 ],
 "metadata": {
  "kernelspec": {
   "display_name": "Python 3",
   "language": "python",
   "name": "python3"
  },
  "language_info": {
   "codemirror_mode": {
    "name": "ipython",
    "version": 3
   },
   "file_extension": ".py",
   "mimetype": "text/x-python",
   "name": "python",
   "nbconvert_exporter": "python",
   "pygments_lexer": "ipython3",
   "version": "3.8.5"
  }
 },
 "nbformat": 4,
 "nbformat_minor": 5
}
